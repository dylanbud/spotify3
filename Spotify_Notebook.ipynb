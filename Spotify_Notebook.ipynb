{
 "cells": [
  {
   "cell_type": "markdown",
   "metadata": {},
   "source": [
    "# Imports and dataframe initialization"
   ]
  },
  {
   "cell_type": "code",
   "execution_count": 2,
   "metadata": {},
   "outputs": [],
   "source": [
    "import pandas as pd\n",
    "import numpy as np\n",
    "from sklearn.neighbors import KNeighborsClassifier\n",
    "from sklearn.model_selection import train_test_split\n",
    "from sklearn.pipeline import Pipeline\n",
    "from sklearn.feature_extraction.text import TfidfVectorizer\n",
    "from sklearn.model_selection import GridSearchCV\n",
    "from sklearn.neighbors import NearestNeighbors\n",
    "from sklearn.preprocessing import StandardScaler\n",
    "import pickle\n",
    "import requests"
   ]
  },
  {
   "cell_type": "code",
   "execution_count": 3,
   "metadata": {},
   "outputs": [],
   "source": [
    "df = pd.read_csv('tracks_features.csv')"
   ]
  },
  {
   "cell_type": "markdown",
   "metadata": {},
   "source": [
    "# Data exploration and cleaning function"
   ]
  },
  {
   "cell_type": "markdown",
   "metadata": {},
   "source": [
    "## Exploration\n",
    "\n",
    "Check which columns need to be dropped, if any columns need to be cleaned up, and check for null values"
   ]
  },
  {
   "cell_type": "code",
   "execution_count": 23,
   "metadata": {},
   "outputs": [
    {
     "data": {
      "text/html": [
       "<div>\n",
       "<style scoped>\n",
       "    .dataframe tbody tr th:only-of-type {\n",
       "        vertical-align: middle;\n",
       "    }\n",
       "\n",
       "    .dataframe tbody tr th {\n",
       "        vertical-align: top;\n",
       "    }\n",
       "\n",
       "    .dataframe thead th {\n",
       "        text-align: right;\n",
       "    }\n",
       "</style>\n",
       "<table border=\"1\" class=\"dataframe\">\n",
       "  <thead>\n",
       "    <tr style=\"text-align: right;\">\n",
       "      <th></th>\n",
       "      <th>name</th>\n",
       "      <th>album</th>\n",
       "      <th>album_id</th>\n",
       "      <th>artists</th>\n",
       "      <th>explicit</th>\n",
       "      <th>danceability</th>\n",
       "      <th>energy</th>\n",
       "      <th>key</th>\n",
       "      <th>loudness</th>\n",
       "      <th>mode</th>\n",
       "      <th>speechiness</th>\n",
       "      <th>acousticness</th>\n",
       "      <th>instrumentalness</th>\n",
       "      <th>liveness</th>\n",
       "      <th>valence</th>\n",
       "      <th>tempo</th>\n",
       "      <th>duration_ms</th>\n",
       "      <th>time_signature</th>\n",
       "      <th>year</th>\n",
       "    </tr>\n",
       "  </thead>\n",
       "  <tbody>\n",
       "    <tr>\n",
       "      <th>0</th>\n",
       "      <td>Testify</td>\n",
       "      <td>The Battle Of Los Angeles</td>\n",
       "      <td>2eia0myWFgoHuttJytCxgX</td>\n",
       "      <td>['Rage Against The Machine']</td>\n",
       "      <td>False</td>\n",
       "      <td>0.470</td>\n",
       "      <td>0.978</td>\n",
       "      <td>7</td>\n",
       "      <td>-5.399</td>\n",
       "      <td>1</td>\n",
       "      <td>0.0727</td>\n",
       "      <td>0.02610</td>\n",
       "      <td>0.000011</td>\n",
       "      <td>0.3560</td>\n",
       "      <td>0.503</td>\n",
       "      <td>117.906</td>\n",
       "      <td>210133</td>\n",
       "      <td>4.0</td>\n",
       "      <td>1999</td>\n",
       "    </tr>\n",
       "    <tr>\n",
       "      <th>1</th>\n",
       "      <td>Guerrilla Radio</td>\n",
       "      <td>The Battle Of Los Angeles</td>\n",
       "      <td>2eia0myWFgoHuttJytCxgX</td>\n",
       "      <td>['Rage Against The Machine']</td>\n",
       "      <td>True</td>\n",
       "      <td>0.599</td>\n",
       "      <td>0.957</td>\n",
       "      <td>11</td>\n",
       "      <td>-5.764</td>\n",
       "      <td>1</td>\n",
       "      <td>0.1880</td>\n",
       "      <td>0.01290</td>\n",
       "      <td>0.000071</td>\n",
       "      <td>0.1550</td>\n",
       "      <td>0.489</td>\n",
       "      <td>103.680</td>\n",
       "      <td>206200</td>\n",
       "      <td>4.0</td>\n",
       "      <td>1999</td>\n",
       "    </tr>\n",
       "    <tr>\n",
       "      <th>2</th>\n",
       "      <td>Calm Like a Bomb</td>\n",
       "      <td>The Battle Of Los Angeles</td>\n",
       "      <td>2eia0myWFgoHuttJytCxgX</td>\n",
       "      <td>['Rage Against The Machine']</td>\n",
       "      <td>False</td>\n",
       "      <td>0.315</td>\n",
       "      <td>0.970</td>\n",
       "      <td>7</td>\n",
       "      <td>-5.424</td>\n",
       "      <td>1</td>\n",
       "      <td>0.4830</td>\n",
       "      <td>0.02340</td>\n",
       "      <td>0.000002</td>\n",
       "      <td>0.1220</td>\n",
       "      <td>0.370</td>\n",
       "      <td>149.749</td>\n",
       "      <td>298893</td>\n",
       "      <td>4.0</td>\n",
       "      <td>1999</td>\n",
       "    </tr>\n",
       "    <tr>\n",
       "      <th>3</th>\n",
       "      <td>Mic Check</td>\n",
       "      <td>The Battle Of Los Angeles</td>\n",
       "      <td>2eia0myWFgoHuttJytCxgX</td>\n",
       "      <td>['Rage Against The Machine']</td>\n",
       "      <td>True</td>\n",
       "      <td>0.440</td>\n",
       "      <td>0.967</td>\n",
       "      <td>11</td>\n",
       "      <td>-5.830</td>\n",
       "      <td>0</td>\n",
       "      <td>0.2370</td>\n",
       "      <td>0.16300</td>\n",
       "      <td>0.000004</td>\n",
       "      <td>0.1210</td>\n",
       "      <td>0.574</td>\n",
       "      <td>96.752</td>\n",
       "      <td>213640</td>\n",
       "      <td>4.0</td>\n",
       "      <td>1999</td>\n",
       "    </tr>\n",
       "    <tr>\n",
       "      <th>4</th>\n",
       "      <td>Sleep Now In the Fire</td>\n",
       "      <td>The Battle Of Los Angeles</td>\n",
       "      <td>2eia0myWFgoHuttJytCxgX</td>\n",
       "      <td>['Rage Against The Machine']</td>\n",
       "      <td>False</td>\n",
       "      <td>0.426</td>\n",
       "      <td>0.929</td>\n",
       "      <td>2</td>\n",
       "      <td>-6.729</td>\n",
       "      <td>1</td>\n",
       "      <td>0.0701</td>\n",
       "      <td>0.00162</td>\n",
       "      <td>0.105000</td>\n",
       "      <td>0.0789</td>\n",
       "      <td>0.539</td>\n",
       "      <td>127.059</td>\n",
       "      <td>205600</td>\n",
       "      <td>4.0</td>\n",
       "      <td>1999</td>\n",
       "    </tr>\n",
       "  </tbody>\n",
       "</table>\n",
       "</div>"
      ],
      "text/plain": [
       "                    name                      album                album_id  \\\n",
       "0                Testify  The Battle Of Los Angeles  2eia0myWFgoHuttJytCxgX   \n",
       "1        Guerrilla Radio  The Battle Of Los Angeles  2eia0myWFgoHuttJytCxgX   \n",
       "2       Calm Like a Bomb  The Battle Of Los Angeles  2eia0myWFgoHuttJytCxgX   \n",
       "3              Mic Check  The Battle Of Los Angeles  2eia0myWFgoHuttJytCxgX   \n",
       "4  Sleep Now In the Fire  The Battle Of Los Angeles  2eia0myWFgoHuttJytCxgX   \n",
       "\n",
       "                        artists  explicit  danceability  energy  key  \\\n",
       "0  ['Rage Against The Machine']     False         0.470   0.978    7   \n",
       "1  ['Rage Against The Machine']      True         0.599   0.957   11   \n",
       "2  ['Rage Against The Machine']     False         0.315   0.970    7   \n",
       "3  ['Rage Against The Machine']      True         0.440   0.967   11   \n",
       "4  ['Rage Against The Machine']     False         0.426   0.929    2   \n",
       "\n",
       "   loudness  mode  speechiness  acousticness  instrumentalness  liveness  \\\n",
       "0    -5.399     1       0.0727       0.02610          0.000011    0.3560   \n",
       "1    -5.764     1       0.1880       0.01290          0.000071    0.1550   \n",
       "2    -5.424     1       0.4830       0.02340          0.000002    0.1220   \n",
       "3    -5.830     0       0.2370       0.16300          0.000004    0.1210   \n",
       "4    -6.729     1       0.0701       0.00162          0.105000    0.0789   \n",
       "\n",
       "   valence    tempo  duration_ms  time_signature  year  \n",
       "0    0.503  117.906       210133             4.0  1999  \n",
       "1    0.489  103.680       206200             4.0  1999  \n",
       "2    0.370  149.749       298893             4.0  1999  \n",
       "3    0.574   96.752       213640             4.0  1999  \n",
       "4    0.539  127.059       205600             4.0  1999  "
      ]
     },
     "execution_count": 23,
     "metadata": {},
     "output_type": "execute_result"
    }
   ],
   "source": [
    "df.head()"
   ]
  },
  {
   "cell_type": "code",
   "execution_count": 10,
   "metadata": {},
   "outputs": [
    {
     "data": {
      "text/plain": [
       "id                  1204025\n",
       "name                 850944\n",
       "album                106162\n",
       "album_id             118382\n",
       "artists              165365\n",
       "artist_ids           166423\n",
       "track_number             50\n",
       "disc_number              13\n",
       "explicit                  2\n",
       "danceability           1362\n",
       "energy                 3441\n",
       "key                      12\n",
       "loudness              39805\n",
       "mode                      2\n",
       "speechiness            1653\n",
       "acousticness           5398\n",
       "instrumentalness       5402\n",
       "liveness               1799\n",
       "valence                1884\n",
       "tempo                140472\n",
       "duration_ms          210013\n",
       "time_signature            5\n",
       "year                    101\n",
       "release_date          10566\n",
       "dtype: int64"
      ]
     },
     "execution_count": 10,
     "metadata": {},
     "output_type": "execute_result"
    }
   ],
   "source": [
    "df.nunique()"
   ]
  },
  {
   "cell_type": "code",
   "execution_count": 19,
   "metadata": {},
   "outputs": [
    {
     "data": {
      "text/plain": [
       "4.0    988647\n",
       "3.0    162645\n",
       "5.0     30493\n",
       "1.0     19431\n",
       "0.0      2809\n",
       "Name: time_signature, dtype: int64"
      ]
     },
     "execution_count": 19,
     "metadata": {},
     "output_type": "execute_result"
    }
   ],
   "source": [
    "df.time_signature.value_counts()"
   ]
  },
  {
   "cell_type": "code",
   "execution_count": 3,
   "metadata": {},
   "outputs": [
    {
     "data": {
      "text/plain": [
       "\"['Rage Against The Machine']\""
      ]
     },
     "execution_count": 3,
     "metadata": {},
     "output_type": "execute_result"
    }
   ],
   "source": [
    "df.artists[1]"
   ]
  },
  {
   "cell_type": "code",
   "execution_count": 13,
   "metadata": {},
   "outputs": [
    {
     "data": {
      "text/plain": [
       "name                0\n",
       "album               0\n",
       "artists             0\n",
       "explicit            0\n",
       "danceability        0\n",
       "energy              0\n",
       "key                 0\n",
       "loudness            0\n",
       "mode                0\n",
       "speechiness         0\n",
       "acousticness        0\n",
       "instrumentalness    0\n",
       "liveness            0\n",
       "valence             0\n",
       "tempo               0\n",
       "duration_ms         0\n",
       "time_signature      0\n",
       "year                0\n",
       "dtype: int64"
      ]
     },
     "execution_count": 13,
     "metadata": {},
     "output_type": "execute_result"
    }
   ],
   "source": [
    "df.isnull().sum()"
   ]
  },
  {
   "cell_type": "markdown",
   "metadata": {},
   "source": [
    "## Feature engineering and cleaning to determine function below (READ WARNING)\n",
    "\n",
    "This is legacy code that was used to construct the cleaning function.  DO NOT RUN, RUN CLEANING FUNCTION INSTEAD."
   ]
  },
  {
   "cell_type": "code",
   "execution_count": 33,
   "metadata": {},
   "outputs": [
    {
     "data": {
      "text/html": [
       "<div>\n",
       "<style scoped>\n",
       "    .dataframe tbody tr th:only-of-type {\n",
       "        vertical-align: middle;\n",
       "    }\n",
       "\n",
       "    .dataframe tbody tr th {\n",
       "        vertical-align: top;\n",
       "    }\n",
       "\n",
       "    .dataframe thead th {\n",
       "        text-align: right;\n",
       "    }\n",
       "</style>\n",
       "<table border=\"1\" class=\"dataframe\">\n",
       "  <thead>\n",
       "    <tr style=\"text-align: right;\">\n",
       "      <th></th>\n",
       "      <th>name</th>\n",
       "      <th>album</th>\n",
       "      <th>artists</th>\n",
       "      <th>explicit</th>\n",
       "      <th>danceability</th>\n",
       "      <th>energy</th>\n",
       "      <th>key</th>\n",
       "      <th>loudness</th>\n",
       "      <th>mode</th>\n",
       "      <th>speechiness</th>\n",
       "      <th>acousticness</th>\n",
       "      <th>instrumentalness</th>\n",
       "      <th>liveness</th>\n",
       "      <th>valence</th>\n",
       "      <th>tempo</th>\n",
       "      <th>duration_ms</th>\n",
       "      <th>time_signature</th>\n",
       "      <th>year</th>\n",
       "    </tr>\n",
       "  </thead>\n",
       "  <tbody>\n",
       "    <tr>\n",
       "      <th>0</th>\n",
       "      <td>Testify</td>\n",
       "      <td>The Battle Of Los Angeles</td>\n",
       "      <td>['Rage Against The Machine']</td>\n",
       "      <td>False</td>\n",
       "      <td>0.470</td>\n",
       "      <td>0.978</td>\n",
       "      <td>7</td>\n",
       "      <td>-5.399</td>\n",
       "      <td>1</td>\n",
       "      <td>0.0727</td>\n",
       "      <td>0.02610</td>\n",
       "      <td>0.000011</td>\n",
       "      <td>0.3560</td>\n",
       "      <td>0.503</td>\n",
       "      <td>117.906</td>\n",
       "      <td>210133</td>\n",
       "      <td>4.0</td>\n",
       "      <td>1999</td>\n",
       "    </tr>\n",
       "    <tr>\n",
       "      <th>1</th>\n",
       "      <td>Guerrilla Radio</td>\n",
       "      <td>The Battle Of Los Angeles</td>\n",
       "      <td>['Rage Against The Machine']</td>\n",
       "      <td>True</td>\n",
       "      <td>0.599</td>\n",
       "      <td>0.957</td>\n",
       "      <td>11</td>\n",
       "      <td>-5.764</td>\n",
       "      <td>1</td>\n",
       "      <td>0.1880</td>\n",
       "      <td>0.01290</td>\n",
       "      <td>0.000071</td>\n",
       "      <td>0.1550</td>\n",
       "      <td>0.489</td>\n",
       "      <td>103.680</td>\n",
       "      <td>206200</td>\n",
       "      <td>4.0</td>\n",
       "      <td>1999</td>\n",
       "    </tr>\n",
       "    <tr>\n",
       "      <th>2</th>\n",
       "      <td>Calm Like a Bomb</td>\n",
       "      <td>The Battle Of Los Angeles</td>\n",
       "      <td>['Rage Against The Machine']</td>\n",
       "      <td>False</td>\n",
       "      <td>0.315</td>\n",
       "      <td>0.970</td>\n",
       "      <td>7</td>\n",
       "      <td>-5.424</td>\n",
       "      <td>1</td>\n",
       "      <td>0.4830</td>\n",
       "      <td>0.02340</td>\n",
       "      <td>0.000002</td>\n",
       "      <td>0.1220</td>\n",
       "      <td>0.370</td>\n",
       "      <td>149.749</td>\n",
       "      <td>298893</td>\n",
       "      <td>4.0</td>\n",
       "      <td>1999</td>\n",
       "    </tr>\n",
       "    <tr>\n",
       "      <th>3</th>\n",
       "      <td>Mic Check</td>\n",
       "      <td>The Battle Of Los Angeles</td>\n",
       "      <td>['Rage Against The Machine']</td>\n",
       "      <td>True</td>\n",
       "      <td>0.440</td>\n",
       "      <td>0.967</td>\n",
       "      <td>11</td>\n",
       "      <td>-5.830</td>\n",
       "      <td>0</td>\n",
       "      <td>0.2370</td>\n",
       "      <td>0.16300</td>\n",
       "      <td>0.000004</td>\n",
       "      <td>0.1210</td>\n",
       "      <td>0.574</td>\n",
       "      <td>96.752</td>\n",
       "      <td>213640</td>\n",
       "      <td>4.0</td>\n",
       "      <td>1999</td>\n",
       "    </tr>\n",
       "    <tr>\n",
       "      <th>4</th>\n",
       "      <td>Sleep Now In the Fire</td>\n",
       "      <td>The Battle Of Los Angeles</td>\n",
       "      <td>['Rage Against The Machine']</td>\n",
       "      <td>False</td>\n",
       "      <td>0.426</td>\n",
       "      <td>0.929</td>\n",
       "      <td>2</td>\n",
       "      <td>-6.729</td>\n",
       "      <td>1</td>\n",
       "      <td>0.0701</td>\n",
       "      <td>0.00162</td>\n",
       "      <td>0.105000</td>\n",
       "      <td>0.0789</td>\n",
       "      <td>0.539</td>\n",
       "      <td>127.059</td>\n",
       "      <td>205600</td>\n",
       "      <td>4.0</td>\n",
       "      <td>1999</td>\n",
       "    </tr>\n",
       "  </tbody>\n",
       "</table>\n",
       "</div>"
      ],
      "text/plain": [
       "                    name                      album  \\\n",
       "0                Testify  The Battle Of Los Angeles   \n",
       "1        Guerrilla Radio  The Battle Of Los Angeles   \n",
       "2       Calm Like a Bomb  The Battle Of Los Angeles   \n",
       "3              Mic Check  The Battle Of Los Angeles   \n",
       "4  Sleep Now In the Fire  The Battle Of Los Angeles   \n",
       "\n",
       "                        artists  explicit  danceability  energy  key  \\\n",
       "0  ['Rage Against The Machine']     False         0.470   0.978    7   \n",
       "1  ['Rage Against The Machine']      True         0.599   0.957   11   \n",
       "2  ['Rage Against The Machine']     False         0.315   0.970    7   \n",
       "3  ['Rage Against The Machine']      True         0.440   0.967   11   \n",
       "4  ['Rage Against The Machine']     False         0.426   0.929    2   \n",
       "\n",
       "   loudness  mode  speechiness  acousticness  instrumentalness  liveness  \\\n",
       "0    -5.399     1       0.0727       0.02610          0.000011    0.3560   \n",
       "1    -5.764     1       0.1880       0.01290          0.000071    0.1550   \n",
       "2    -5.424     1       0.4830       0.02340          0.000002    0.1220   \n",
       "3    -5.830     0       0.2370       0.16300          0.000004    0.1210   \n",
       "4    -6.729     1       0.0701       0.00162          0.105000    0.0789   \n",
       "\n",
       "   valence    tempo  duration_ms  time_signature  year  \n",
       "0    0.503  117.906       210133             4.0  1999  \n",
       "1    0.489  103.680       206200             4.0  1999  \n",
       "2    0.370  149.749       298893             4.0  1999  \n",
       "3    0.574   96.752       213640             4.0  1999  \n",
       "4    0.539  127.059       205600             4.0  1999  "
      ]
     },
     "execution_count": 33,
     "metadata": {},
     "output_type": "execute_result"
    }
   ],
   "source": [
    "columns_to_drop = ['artist_ids', 'track_number', 'disc_number', 'album_id', 'id', 'release_date']\n",
    "df.drop(columns_to_drop, axis=1, inplace=True)\n",
    "\n",
    "# df.replace('(^\\s+|\\s+$)', '', regex=True, inplace=True)\n",
    "df.head()"
   ]
  },
  {
   "cell_type": "code",
   "execution_count": 36,
   "metadata": {},
   "outputs": [
    {
     "name": "stderr",
     "output_type": "stream",
     "text": [
      "C:\\Users\\1\\AppData\\Local\\Temp/ipykernel_11600/577650510.py:4: FutureWarning: The default value of regex will change from True to False in a future version.\n",
      "  df['artists'] = df['artists'].str.replace(r\"[\\\"\\',]\", '')\n"
     ]
    },
    {
     "data": {
      "text/html": [
       "<div>\n",
       "<style scoped>\n",
       "    .dataframe tbody tr th:only-of-type {\n",
       "        vertical-align: middle;\n",
       "    }\n",
       "\n",
       "    .dataframe tbody tr th {\n",
       "        vertical-align: top;\n",
       "    }\n",
       "\n",
       "    .dataframe thead th {\n",
       "        text-align: right;\n",
       "    }\n",
       "</style>\n",
       "<table border=\"1\" class=\"dataframe\">\n",
       "  <thead>\n",
       "    <tr style=\"text-align: right;\">\n",
       "      <th></th>\n",
       "      <th>name</th>\n",
       "      <th>album</th>\n",
       "      <th>artists</th>\n",
       "      <th>explicit</th>\n",
       "      <th>danceability</th>\n",
       "      <th>energy</th>\n",
       "      <th>key</th>\n",
       "      <th>loudness</th>\n",
       "      <th>mode</th>\n",
       "      <th>speechiness</th>\n",
       "      <th>acousticness</th>\n",
       "      <th>instrumentalness</th>\n",
       "      <th>liveness</th>\n",
       "      <th>valence</th>\n",
       "      <th>tempo</th>\n",
       "      <th>duration_ms</th>\n",
       "      <th>time_signature</th>\n",
       "      <th>year</th>\n",
       "    </tr>\n",
       "  </thead>\n",
       "  <tbody>\n",
       "    <tr>\n",
       "      <th>0</th>\n",
       "      <td>Testify</td>\n",
       "      <td>The Battle Of Los Angeles</td>\n",
       "      <td>Rage Against The Machine</td>\n",
       "      <td>False</td>\n",
       "      <td>0.470</td>\n",
       "      <td>0.978</td>\n",
       "      <td>7</td>\n",
       "      <td>-5.399</td>\n",
       "      <td>1</td>\n",
       "      <td>0.0727</td>\n",
       "      <td>0.02610</td>\n",
       "      <td>0.000011</td>\n",
       "      <td>0.3560</td>\n",
       "      <td>0.503</td>\n",
       "      <td>117.906</td>\n",
       "      <td>210133</td>\n",
       "      <td>4.0</td>\n",
       "      <td>1999</td>\n",
       "    </tr>\n",
       "    <tr>\n",
       "      <th>1</th>\n",
       "      <td>Guerrilla Radio</td>\n",
       "      <td>The Battle Of Los Angeles</td>\n",
       "      <td>Rage Against The Machine</td>\n",
       "      <td>True</td>\n",
       "      <td>0.599</td>\n",
       "      <td>0.957</td>\n",
       "      <td>11</td>\n",
       "      <td>-5.764</td>\n",
       "      <td>1</td>\n",
       "      <td>0.1880</td>\n",
       "      <td>0.01290</td>\n",
       "      <td>0.000071</td>\n",
       "      <td>0.1550</td>\n",
       "      <td>0.489</td>\n",
       "      <td>103.680</td>\n",
       "      <td>206200</td>\n",
       "      <td>4.0</td>\n",
       "      <td>1999</td>\n",
       "    </tr>\n",
       "    <tr>\n",
       "      <th>2</th>\n",
       "      <td>Calm Like a Bomb</td>\n",
       "      <td>The Battle Of Los Angeles</td>\n",
       "      <td>Rage Against The Machine</td>\n",
       "      <td>False</td>\n",
       "      <td>0.315</td>\n",
       "      <td>0.970</td>\n",
       "      <td>7</td>\n",
       "      <td>-5.424</td>\n",
       "      <td>1</td>\n",
       "      <td>0.4830</td>\n",
       "      <td>0.02340</td>\n",
       "      <td>0.000002</td>\n",
       "      <td>0.1220</td>\n",
       "      <td>0.370</td>\n",
       "      <td>149.749</td>\n",
       "      <td>298893</td>\n",
       "      <td>4.0</td>\n",
       "      <td>1999</td>\n",
       "    </tr>\n",
       "    <tr>\n",
       "      <th>3</th>\n",
       "      <td>Mic Check</td>\n",
       "      <td>The Battle Of Los Angeles</td>\n",
       "      <td>Rage Against The Machine</td>\n",
       "      <td>True</td>\n",
       "      <td>0.440</td>\n",
       "      <td>0.967</td>\n",
       "      <td>11</td>\n",
       "      <td>-5.830</td>\n",
       "      <td>0</td>\n",
       "      <td>0.2370</td>\n",
       "      <td>0.16300</td>\n",
       "      <td>0.000004</td>\n",
       "      <td>0.1210</td>\n",
       "      <td>0.574</td>\n",
       "      <td>96.752</td>\n",
       "      <td>213640</td>\n",
       "      <td>4.0</td>\n",
       "      <td>1999</td>\n",
       "    </tr>\n",
       "    <tr>\n",
       "      <th>4</th>\n",
       "      <td>Sleep Now In the Fire</td>\n",
       "      <td>The Battle Of Los Angeles</td>\n",
       "      <td>Rage Against The Machine</td>\n",
       "      <td>False</td>\n",
       "      <td>0.426</td>\n",
       "      <td>0.929</td>\n",
       "      <td>2</td>\n",
       "      <td>-6.729</td>\n",
       "      <td>1</td>\n",
       "      <td>0.0701</td>\n",
       "      <td>0.00162</td>\n",
       "      <td>0.105000</td>\n",
       "      <td>0.0789</td>\n",
       "      <td>0.539</td>\n",
       "      <td>127.059</td>\n",
       "      <td>205600</td>\n",
       "      <td>4.0</td>\n",
       "      <td>1999</td>\n",
       "    </tr>\n",
       "  </tbody>\n",
       "</table>\n",
       "</div>"
      ],
      "text/plain": [
       "                    name                      album                   artists  \\\n",
       "0                Testify  The Battle Of Los Angeles  Rage Against The Machine   \n",
       "1        Guerrilla Radio  The Battle Of Los Angeles  Rage Against The Machine   \n",
       "2       Calm Like a Bomb  The Battle Of Los Angeles  Rage Against The Machine   \n",
       "3              Mic Check  The Battle Of Los Angeles  Rage Against The Machine   \n",
       "4  Sleep Now In the Fire  The Battle Of Los Angeles  Rage Against The Machine   \n",
       "\n",
       "   explicit  danceability  energy  key  loudness  mode  speechiness  \\\n",
       "0     False         0.470   0.978    7    -5.399     1       0.0727   \n",
       "1      True         0.599   0.957   11    -5.764     1       0.1880   \n",
       "2     False         0.315   0.970    7    -5.424     1       0.4830   \n",
       "3      True         0.440   0.967   11    -5.830     0       0.2370   \n",
       "4     False         0.426   0.929    2    -6.729     1       0.0701   \n",
       "\n",
       "   acousticness  instrumentalness  liveness  valence    tempo  duration_ms  \\\n",
       "0       0.02610          0.000011    0.3560    0.503  117.906       210133   \n",
       "1       0.01290          0.000071    0.1550    0.489  103.680       206200   \n",
       "2       0.02340          0.000002    0.1220    0.370  149.749       298893   \n",
       "3       0.16300          0.000004    0.1210    0.574   96.752       213640   \n",
       "4       0.00162          0.105000    0.0789    0.539  127.059       205600   \n",
       "\n",
       "   time_signature  year  \n",
       "0             4.0  1999  \n",
       "1             4.0  1999  \n",
       "2             4.0  1999  \n",
       "3             4.0  1999  \n",
       "4             4.0  1999  "
      ]
     },
     "execution_count": 36,
     "metadata": {},
     "output_type": "execute_result"
    }
   ],
   "source": [
    "# df['artists'].apply(lambda x: x.replace('[','').replace(']','').replace(\"'\",\"\")) \n",
    "# df.replace('(^\\s+|\\s+$)', '', regex=True, inplace=True)\n",
    "df['artists'] = df['artists'].str.replace(r'[][]+', '', regex=True) \n",
    "df['artists'] = df['artists'].str.replace(r\"[\\\"\\',]\", '')\n",
    "df.head()"
   ]
  },
  {
   "cell_type": "code",
   "execution_count": 37,
   "metadata": {},
   "outputs": [],
   "source": [
    "df.to_csv('cleaned_data')"
   ]
  },
  {
   "cell_type": "markdown",
   "metadata": {},
   "source": [
    "## Cleaning Function\n",
    "\n",
    "This is where we convert the data cleaning to a function, then apply the function"
   ]
  },
  {
   "cell_type": "code",
   "execution_count": 4,
   "metadata": {},
   "outputs": [],
   "source": [
    "def clean_spotify_data(spotify_dataframe):\n",
    "    '''Input the spotify dataframe and it will return a version compatible with our model.\n",
    "    Removes unused features and cleans up the artist names by removing the extranious\n",
    "    '[]' '''\n",
    "    \n",
    "    df = spotify_dataframe\n",
    "    columns_to_drop = ['artist_ids', 'track_number', 'disc_number', 'album_id', 'id', 'release_date']\n",
    "    \n",
    "    df.drop(columns_to_drop, axis=1, inplace=True)\n",
    "    df['artists'] = df['artists'].str.replace(r'[][]+', '', regex=True)\n",
    "    df['artists'] = df['artists'].str.replace(r\"[\\\"\\',]\", '')\n",
    "    \n",
    "    return df"
   ]
  },
  {
   "cell_type": "code",
   "execution_count": 79,
   "metadata": {},
   "outputs": [],
   "source": [
    "df = clean_spotify_data(df)"
   ]
  },
  {
   "cell_type": "code",
   "execution_count": 5,
   "metadata": {},
   "outputs": [
    {
     "data": {
      "text/html": [
       "<div>\n",
       "<style scoped>\n",
       "    .dataframe tbody tr th:only-of-type {\n",
       "        vertical-align: middle;\n",
       "    }\n",
       "\n",
       "    .dataframe tbody tr th {\n",
       "        vertical-align: top;\n",
       "    }\n",
       "\n",
       "    .dataframe thead th {\n",
       "        text-align: right;\n",
       "    }\n",
       "</style>\n",
       "<table border=\"1\" class=\"dataframe\">\n",
       "  <thead>\n",
       "    <tr style=\"text-align: right;\">\n",
       "      <th></th>\n",
       "      <th>name</th>\n",
       "      <th>album</th>\n",
       "      <th>artists</th>\n",
       "      <th>explicit</th>\n",
       "      <th>danceability</th>\n",
       "      <th>energy</th>\n",
       "      <th>key</th>\n",
       "      <th>loudness</th>\n",
       "      <th>mode</th>\n",
       "      <th>speechiness</th>\n",
       "      <th>acousticness</th>\n",
       "      <th>instrumentalness</th>\n",
       "      <th>liveness</th>\n",
       "      <th>valence</th>\n",
       "      <th>tempo</th>\n",
       "      <th>duration_ms</th>\n",
       "      <th>time_signature</th>\n",
       "      <th>year</th>\n",
       "    </tr>\n",
       "  </thead>\n",
       "  <tbody>\n",
       "    <tr>\n",
       "      <th>0</th>\n",
       "      <td>Testify</td>\n",
       "      <td>The Battle Of Los Angeles</td>\n",
       "      <td>Rage Against The Machine</td>\n",
       "      <td>False</td>\n",
       "      <td>0.470</td>\n",
       "      <td>0.978</td>\n",
       "      <td>7</td>\n",
       "      <td>-5.399</td>\n",
       "      <td>1</td>\n",
       "      <td>0.0727</td>\n",
       "      <td>0.02610</td>\n",
       "      <td>0.000011</td>\n",
       "      <td>0.3560</td>\n",
       "      <td>0.503</td>\n",
       "      <td>117.906</td>\n",
       "      <td>210133</td>\n",
       "      <td>4.0</td>\n",
       "      <td>1999</td>\n",
       "    </tr>\n",
       "    <tr>\n",
       "      <th>1</th>\n",
       "      <td>Guerrilla Radio</td>\n",
       "      <td>The Battle Of Los Angeles</td>\n",
       "      <td>Rage Against The Machine</td>\n",
       "      <td>True</td>\n",
       "      <td>0.599</td>\n",
       "      <td>0.957</td>\n",
       "      <td>11</td>\n",
       "      <td>-5.764</td>\n",
       "      <td>1</td>\n",
       "      <td>0.1880</td>\n",
       "      <td>0.01290</td>\n",
       "      <td>0.000071</td>\n",
       "      <td>0.1550</td>\n",
       "      <td>0.489</td>\n",
       "      <td>103.680</td>\n",
       "      <td>206200</td>\n",
       "      <td>4.0</td>\n",
       "      <td>1999</td>\n",
       "    </tr>\n",
       "    <tr>\n",
       "      <th>2</th>\n",
       "      <td>Calm Like a Bomb</td>\n",
       "      <td>The Battle Of Los Angeles</td>\n",
       "      <td>Rage Against The Machine</td>\n",
       "      <td>False</td>\n",
       "      <td>0.315</td>\n",
       "      <td>0.970</td>\n",
       "      <td>7</td>\n",
       "      <td>-5.424</td>\n",
       "      <td>1</td>\n",
       "      <td>0.4830</td>\n",
       "      <td>0.02340</td>\n",
       "      <td>0.000002</td>\n",
       "      <td>0.1220</td>\n",
       "      <td>0.370</td>\n",
       "      <td>149.749</td>\n",
       "      <td>298893</td>\n",
       "      <td>4.0</td>\n",
       "      <td>1999</td>\n",
       "    </tr>\n",
       "    <tr>\n",
       "      <th>3</th>\n",
       "      <td>Mic Check</td>\n",
       "      <td>The Battle Of Los Angeles</td>\n",
       "      <td>Rage Against The Machine</td>\n",
       "      <td>True</td>\n",
       "      <td>0.440</td>\n",
       "      <td>0.967</td>\n",
       "      <td>11</td>\n",
       "      <td>-5.830</td>\n",
       "      <td>0</td>\n",
       "      <td>0.2370</td>\n",
       "      <td>0.16300</td>\n",
       "      <td>0.000004</td>\n",
       "      <td>0.1210</td>\n",
       "      <td>0.574</td>\n",
       "      <td>96.752</td>\n",
       "      <td>213640</td>\n",
       "      <td>4.0</td>\n",
       "      <td>1999</td>\n",
       "    </tr>\n",
       "    <tr>\n",
       "      <th>4</th>\n",
       "      <td>Sleep Now In the Fire</td>\n",
       "      <td>The Battle Of Los Angeles</td>\n",
       "      <td>Rage Against The Machine</td>\n",
       "      <td>False</td>\n",
       "      <td>0.426</td>\n",
       "      <td>0.929</td>\n",
       "      <td>2</td>\n",
       "      <td>-6.729</td>\n",
       "      <td>1</td>\n",
       "      <td>0.0701</td>\n",
       "      <td>0.00162</td>\n",
       "      <td>0.105000</td>\n",
       "      <td>0.0789</td>\n",
       "      <td>0.539</td>\n",
       "      <td>127.059</td>\n",
       "      <td>205600</td>\n",
       "      <td>4.0</td>\n",
       "      <td>1999</td>\n",
       "    </tr>\n",
       "  </tbody>\n",
       "</table>\n",
       "</div>"
      ],
      "text/plain": [
       "                    name                      album                   artists  \\\n",
       "0                Testify  The Battle Of Los Angeles  Rage Against The Machine   \n",
       "1        Guerrilla Radio  The Battle Of Los Angeles  Rage Against The Machine   \n",
       "2       Calm Like a Bomb  The Battle Of Los Angeles  Rage Against The Machine   \n",
       "3              Mic Check  The Battle Of Los Angeles  Rage Against The Machine   \n",
       "4  Sleep Now In the Fire  The Battle Of Los Angeles  Rage Against The Machine   \n",
       "\n",
       "   explicit  danceability  energy  key  loudness  mode  speechiness  \\\n",
       "0     False         0.470   0.978    7    -5.399     1       0.0727   \n",
       "1      True         0.599   0.957   11    -5.764     1       0.1880   \n",
       "2     False         0.315   0.970    7    -5.424     1       0.4830   \n",
       "3      True         0.440   0.967   11    -5.830     0       0.2370   \n",
       "4     False         0.426   0.929    2    -6.729     1       0.0701   \n",
       "\n",
       "   acousticness  instrumentalness  liveness  valence    tempo  duration_ms  \\\n",
       "0       0.02610          0.000011    0.3560    0.503  117.906       210133   \n",
       "1       0.01290          0.000071    0.1550    0.489  103.680       206200   \n",
       "2       0.02340          0.000002    0.1220    0.370  149.749       298893   \n",
       "3       0.16300          0.000004    0.1210    0.574   96.752       213640   \n",
       "4       0.00162          0.105000    0.0789    0.539  127.059       205600   \n",
       "\n",
       "   time_signature  year  \n",
       "0             4.0  1999  \n",
       "1             4.0  1999  \n",
       "2             4.0  1999  \n",
       "3             4.0  1999  \n",
       "4             4.0  1999  "
      ]
     },
     "execution_count": 5,
     "metadata": {},
     "output_type": "execute_result"
    }
   ],
   "source": [
    "df.head()"
   ]
  },
  {
   "cell_type": "markdown",
   "metadata": {},
   "source": [
    "# Work on KNN Model\n",
    "\n",
    "This is where the KNN model is created, trained, tested, and finally saved"
   ]
  },
  {
   "cell_type": "markdown",
   "metadata": {},
   "source": [
    "## Creating the model\n",
    "This was extremely messy due to troubleshooting.  Model was later built in \"build smaller model\""
   ]
  },
  {
   "cell_type": "code",
   "execution_count": 51,
   "metadata": {},
   "outputs": [],
   "source": [
    "knn = KNeighborsClassifier(n_jobs=-1)\n",
    "nn = NearestNeighbors(n_jobs=-1)\n",
    "vect = TfidfVectorizer(stop_words=\"english\",lowercase=False)\n",
    "scl = StandardScaler()\n",
    "pipe = Pipeline([('vect', vect),\n",
    "                 ('clf', knn)])\n",
    "pipe2 = Pipeline([('vect', vect),\n",
    "                  ('scl', scl),\n",
    "                  ('clf', nn)])\n",
    "parameters = {\n",
    " #   'vect__min_df': ([0, .2]),\n",
    "    'clf__n_neighbors': ([6])\n",
    "}\n",
    "target = 'name'\n",
    "y = df[target]\n",
    "X = df.drop(columns=target)\n",
    "gs = GridSearchCV(pipe, parameters, cv=2, n_jobs=-1, verbose=1)\n",
    "X_train, X_test, y_train, y_test = train_test_split(df, df['name'], test_size=.2)"
   ]
  },
  {
   "cell_type": "markdown",
   "metadata": {},
   "source": [
    "## experiment 1\n",
    "using this to collapes old data to try expermiment 2"
   ]
  },
  {
   "cell_type": "code",
   "execution_count": 9,
   "metadata": {},
   "outputs": [
    {
     "data": {
      "text/plain": [
       "Pipeline(steps=[('vect',\n",
       "                 TfidfVectorizer(lowercase=False, stop_words='english')),\n",
       "                ('clf', NearestNeighbors())])"
      ]
     },
     "execution_count": 9,
     "metadata": {},
     "output_type": "execute_result"
    }
   ],
   "source": [
    "\n",
    "pipe2.fit(df)"
   ]
  },
  {
   "cell_type": "code",
   "execution_count": null,
   "metadata": {},
   "outputs": [],
   "source": [
    "def recommend(songdata):\n",
    "    '''Gets 5 song recommendations from the NN model\n",
    "    Use: input data from the API into a dataframe, then\n",
    "    put that dataframe into the function.'''\n",
    "    \n",
    "    s = songdata\n",
    "    clean_spotify_data(s)\n",
    "    "
   ]
  },
  {
   "cell_type": "code",
   "execution_count": 14,
   "metadata": {},
   "outputs": [],
   "source": [
    "tst = df.iloc[1]"
   ]
  },
  {
   "cell_type": "code",
   "execution_count": 72,
   "metadata": {},
   "outputs": [],
   "source": [
    "# pipe2.kneighbors(tst, 5, return_distance=False)"
   ]
  },
  {
   "cell_type": "code",
   "execution_count": 73,
   "metadata": {},
   "outputs": [],
   "source": [
    "\n",
    "# vect.transform(tst['name'])\n"
   ]
  },
  {
   "cell_type": "code",
   "execution_count": 74,
   "metadata": {},
   "outputs": [],
   "source": [
    "# nn.kneighbors(tst, 5, return_distance=False)"
   ]
  },
  {
   "cell_type": "code",
   "execution_count": null,
   "metadata": {},
   "outputs": [
    {
     "data": {
      "text/plain": [
       "0          0\n",
       "1          1\n",
       "2          0\n",
       "3          1\n",
       "4          0\n",
       "          ..\n",
       "1204020    0\n",
       "1204021    0\n",
       "1204022    0\n",
       "1204023    0\n",
       "1204024    0\n",
       "Name: explicit, Length: 1204025, dtype: int64"
      ]
     },
     "execution_count": 10,
     "metadata": {},
     "output_type": "execute_result"
    }
   ],
   "source": [
    "X.album.apply(str)\n",
    "X.artists.apply(str)\n",
    "X.explicit.apply(int)"
   ]
  },
  {
   "cell_type": "code",
   "execution_count": null,
   "metadata": {},
   "outputs": [],
   "source": [
    "X.head()"
   ]
  },
  {
   "cell_type": "code",
   "execution_count": 75,
   "metadata": {},
   "outputs": [],
   "source": [
    "# knn.fit(X,y)"
   ]
  },
  {
   "cell_type": "code",
   "execution_count": null,
   "metadata": {},
   "outputs": [
    {
     "data": {
      "text/plain": [
       "(17, 1204025)"
      ]
     },
     "execution_count": 11,
     "metadata": {},
     "output_type": "execute_result"
    }
   ],
   "source": [
    "X = X.T\n",
    "X.shape"
   ]
  },
  {
   "cell_type": "code",
   "execution_count": null,
   "metadata": {},
   "outputs": [
    {
     "data": {
      "text/plain": [
       "(1204025,)"
      ]
     },
     "execution_count": 47,
     "metadata": {},
     "output_type": "execute_result"
    }
   ],
   "source": [
    "y.values.reshape((1204025,1))\n",
    "y.shape"
   ]
  },
  {
   "cell_type": "code",
   "execution_count": 76,
   "metadata": {},
   "outputs": [],
   "source": [
    "# pipe.fit(X,y)"
   ]
  },
  {
   "cell_type": "code",
   "execution_count": 77,
   "metadata": {},
   "outputs": [],
   "source": [
    "# gs.fit(X, y)\n",
    "# print(gs.best_score_)\n",
    "# print(gs.best_params_)"
   ]
  },
  {
   "cell_type": "markdown",
   "metadata": {},
   "source": [
    "## experiment 2"
   ]
  },
  {
   "cell_type": "code",
   "execution_count": 101,
   "metadata": {},
   "outputs": [],
   "source": [
    "pipe3 = Pipeline([ ('scl', scl),\n",
    "                  ('clf', knn)])\n",
    "strcols = ['album','artists']\n",
    "X2 = X.drop(columns=strcols)"
   ]
  },
  {
   "cell_type": "code",
   "execution_count": 263,
   "metadata": {},
   "outputs": [
    {
     "data": {
      "text/plain": [
       "(1, 15)"
      ]
     },
     "execution_count": 263,
     "metadata": {},
     "output_type": "execute_result"
    }
   ],
   "source": [
    "Xtst = X2.iloc[77].to_numpy()\n",
    "Xtst = Xtst.reshape(1,-1)\n",
    "Xtst.shape"
   ]
  },
  {
   "cell_type": "code",
   "execution_count": 96,
   "metadata": {},
   "outputs": [
    {
     "data": {
      "text/plain": [
       "array([[0., 0., 0., ..., 0., 0., 0.]])"
      ]
     },
     "execution_count": 96,
     "metadata": {},
     "output_type": "execute_result"
    }
   ],
   "source": [
    "\n",
    "X2 = X2.to_numpy().reshape(1,-1)\n",
    "scl.fit_transform(X2)"
   ]
  },
  {
   "cell_type": "code",
   "execution_count": 103,
   "metadata": {},
   "outputs": [
    {
     "data": {
      "text/plain": [
       "KNeighborsClassifier(n_jobs=-1)"
      ]
     },
     "execution_count": 103,
     "metadata": {},
     "output_type": "execute_result"
    }
   ],
   "source": [
    "knn.fit(X2,y)"
   ]
  },
  {
   "cell_type": "code",
   "execution_count": 264,
   "metadata": {},
   "outputs": [
    {
     "name": "stderr",
     "output_type": "stream",
     "text": [
      "C:\\Anaconda\\lib\\site-packages\\sklearn\\base.py:445: UserWarning: X does not have valid feature names, but KNeighborsClassifier was fitted with feature names\n",
      "  warnings.warn(\n"
     ]
    }
   ],
   "source": [
    "recnums = knn.kneighbors(Xtst, 5, return_distance=False)"
   ]
  },
  {
   "cell_type": "code",
   "execution_count": 106,
   "metadata": {},
   "outputs": [
    {
     "data": {
      "text/html": [
       "<div>\n",
       "<style scoped>\n",
       "    .dataframe tbody tr th:only-of-type {\n",
       "        vertical-align: middle;\n",
       "    }\n",
       "\n",
       "    .dataframe tbody tr th {\n",
       "        vertical-align: top;\n",
       "    }\n",
       "\n",
       "    .dataframe thead th {\n",
       "        text-align: right;\n",
       "    }\n",
       "</style>\n",
       "<table border=\"1\" class=\"dataframe\">\n",
       "  <thead>\n",
       "    <tr style=\"text-align: right;\">\n",
       "      <th></th>\n",
       "      <th>name</th>\n",
       "      <th>album</th>\n",
       "      <th>artists</th>\n",
       "    </tr>\n",
       "  </thead>\n",
       "  <tbody>\n",
       "    <tr>\n",
       "      <th>0</th>\n",
       "      <td>Testify</td>\n",
       "      <td>The Battle Of Los Angeles</td>\n",
       "      <td>Rage Against The Machine</td>\n",
       "    </tr>\n",
       "    <tr>\n",
       "      <th>1</th>\n",
       "      <td>Guerrilla Radio</td>\n",
       "      <td>The Battle Of Los Angeles</td>\n",
       "      <td>Rage Against The Machine</td>\n",
       "    </tr>\n",
       "    <tr>\n",
       "      <th>2</th>\n",
       "      <td>Calm Like a Bomb</td>\n",
       "      <td>The Battle Of Los Angeles</td>\n",
       "      <td>Rage Against The Machine</td>\n",
       "    </tr>\n",
       "    <tr>\n",
       "      <th>3</th>\n",
       "      <td>Mic Check</td>\n",
       "      <td>The Battle Of Los Angeles</td>\n",
       "      <td>Rage Against The Machine</td>\n",
       "    </tr>\n",
       "    <tr>\n",
       "      <th>4</th>\n",
       "      <td>Sleep Now In the Fire</td>\n",
       "      <td>The Battle Of Los Angeles</td>\n",
       "      <td>Rage Against The Machine</td>\n",
       "    </tr>\n",
       "  </tbody>\n",
       "</table>\n",
       "</div>"
      ],
      "text/plain": [
       "                    name                      album                   artists\n",
       "0                Testify  The Battle Of Los Angeles  Rage Against The Machine\n",
       "1        Guerrilla Radio  The Battle Of Los Angeles  Rage Against The Machine\n",
       "2       Calm Like a Bomb  The Battle Of Los Angeles  Rage Against The Machine\n",
       "3              Mic Check  The Battle Of Los Angeles  Rage Against The Machine\n",
       "4  Sleep Now In the Fire  The Battle Of Los Angeles  Rage Against The Machine"
      ]
     },
     "execution_count": 106,
     "metadata": {},
     "output_type": "execute_result"
    }
   ],
   "source": [
    "allstrcols = ['name','album','artists']\n",
    "rectable = df[allstrcols]\n",
    "rectable.head()"
   ]
  },
  {
   "cell_type": "code",
   "execution_count": 113,
   "metadata": {},
   "outputs": [
    {
     "name": "stdout",
     "output_type": "stream",
     "text": [
      "                                                      name  \\\n",
      "77                                             Rosaryville   \n",
      "597350   Shiftwork (with George Strait) - Duet With Geo...   \n",
      "34748                                 Diamond On Your Hand   \n",
      "1165689                    Even Better Than the Real Thing   \n",
      "1030881                                       Italian Rain   \n",
      "\n",
      "                                     album                      artists  \n",
      "77                             Rosaryville                Kate Campbell  \n",
      "597350      Just Who I Am: Poets & Pirates  Kenny Chesney George Strait  \n",
      "34748                  Big Dream Boulevard                Antje Duvekot  \n",
      "1165689  You Spin Me Round (Like A Record)                Dead Or Alive  \n",
      "1030881                       Blue Guitars               Stephen Bishop  \n"
     ]
    }
   ],
   "source": [
    "# for x in recnums:\n",
    "#     print(rectable.iloc[x])"
   ]
  },
  {
   "cell_type": "code",
   "execution_count": 265,
   "metadata": {},
   "outputs": [],
   "source": [
    "recnumlist=recnums.tolist()[0]\n"
   ]
  },
  {
   "cell_type": "code",
   "execution_count": 193,
   "metadata": {},
   "outputs": [
    {
     "data": {
      "text/plain": [
       "[77, 597350, 34748, 1165689, 1030881]"
      ]
     },
     "execution_count": 193,
     "metadata": {},
     "output_type": "execute_result"
    }
   ],
   "source": [
    "# recnumlist"
   ]
  },
  {
   "cell_type": "code",
   "execution_count": 186,
   "metadata": {},
   "outputs": [],
   "source": [
    "# recnumlist = [77, 597350, 34748, 1165689, 1030881]"
   ]
  },
  {
   "cell_type": "code",
   "execution_count": 266,
   "metadata": {},
   "outputs": [
    {
     "data": {
      "text/html": [
       "<div>\n",
       "<style scoped>\n",
       "    .dataframe tbody tr th:only-of-type {\n",
       "        vertical-align: middle;\n",
       "    }\n",
       "\n",
       "    .dataframe tbody tr th {\n",
       "        vertical-align: top;\n",
       "    }\n",
       "\n",
       "    .dataframe thead th {\n",
       "        text-align: right;\n",
       "    }\n",
       "</style>\n",
       "<table border=\"1\" class=\"dataframe\">\n",
       "  <thead>\n",
       "    <tr style=\"text-align: right;\">\n",
       "      <th></th>\n",
       "      <th>name</th>\n",
       "      <th>album</th>\n",
       "      <th>artists</th>\n",
       "    </tr>\n",
       "  </thead>\n",
       "  <tbody>\n",
       "    <tr>\n",
       "      <th>77</th>\n",
       "      <td>Rosaryville</td>\n",
       "      <td>Rosaryville</td>\n",
       "      <td>Kate Campbell</td>\n",
       "    </tr>\n",
       "    <tr>\n",
       "      <th>597350</th>\n",
       "      <td>Shiftwork (with George Strait) - Duet With Geo...</td>\n",
       "      <td>Just Who I Am: Poets &amp; Pirates</td>\n",
       "      <td>Kenny Chesney George Strait</td>\n",
       "    </tr>\n",
       "    <tr>\n",
       "      <th>34748</th>\n",
       "      <td>Diamond On Your Hand</td>\n",
       "      <td>Big Dream Boulevard</td>\n",
       "      <td>Antje Duvekot</td>\n",
       "    </tr>\n",
       "    <tr>\n",
       "      <th>1165689</th>\n",
       "      <td>Even Better Than the Real Thing</td>\n",
       "      <td>You Spin Me Round (Like A Record)</td>\n",
       "      <td>Dead Or Alive</td>\n",
       "    </tr>\n",
       "    <tr>\n",
       "      <th>1030881</th>\n",
       "      <td>Italian Rain</td>\n",
       "      <td>Blue Guitars</td>\n",
       "      <td>Stephen Bishop</td>\n",
       "    </tr>\n",
       "  </tbody>\n",
       "</table>\n",
       "</div>"
      ],
      "text/plain": [
       "                                                      name  \\\n",
       "77                                             Rosaryville   \n",
       "597350   Shiftwork (with George Strait) - Duet With Geo...   \n",
       "34748                                 Diamond On Your Hand   \n",
       "1165689                    Even Better Than the Real Thing   \n",
       "1030881                                       Italian Rain   \n",
       "\n",
       "                                     album                      artists  \n",
       "77                             Rosaryville                Kate Campbell  \n",
       "597350      Just Who I Am: Poets & Pirates  Kenny Chesney George Strait  \n",
       "34748                  Big Dream Boulevard                Antje Duvekot  \n",
       "1165689  You Spin Me Round (Like A Record)                Dead Or Alive  \n",
       "1030881                       Blue Guitars               Stephen Bishop  "
      ]
     },
     "execution_count": 266,
     "metadata": {},
     "output_type": "execute_result"
    }
   ],
   "source": [
    "rectable.iloc[recnumlist]"
   ]
  },
  {
   "cell_type": "code",
   "execution_count": 115,
   "metadata": {},
   "outputs": [
    {
     "name": "stderr",
     "output_type": "stream",
     "text": [
      "C:\\Anaconda\\lib\\site-packages\\sklearn\\base.py:445: UserWarning: X does not have valid feature names, but KNeighborsClassifier was fitted with feature names\n",
      "  warnings.warn(\n"
     ]
    },
    {
     "data": {
      "text/plain": [
       "array(['Diamond On Your Hand'], dtype=object)"
      ]
     },
     "execution_count": 115,
     "metadata": {},
     "output_type": "execute_result"
    }
   ],
   "source": [
    "# knn.predict(Xtst)"
   ]
  },
  {
   "cell_type": "code",
   "execution_count": 124,
   "metadata": {},
   "outputs": [],
   "source": [
    "pickle.dump(knn, open('knn.pkl', 'wb'))"
   ]
  },
  {
   "cell_type": "markdown",
   "metadata": {},
   "source": [
    "## build smaller model for tiny github data limit\n",
    "It's truly very tiny."
   ]
  },
  {
   "cell_type": "code",
   "execution_count": 6,
   "metadata": {},
   "outputs": [],
   "source": [
    "df2 = df.sample(frac=.1,random_state=45)"
   ]
  },
  {
   "cell_type": "code",
   "execution_count": 119,
   "metadata": {},
   "outputs": [],
   "source": [
    "#testing to see how model size is affected\n",
    "x2t = X2.drop(columns=['key','explicit','duration_ms'])"
   ]
  },
  {
   "cell_type": "code",
   "execution_count": 12,
   "metadata": {},
   "outputs": [],
   "source": [
    "knn2 = KNeighborsClassifier(n_jobs=-1)"
   ]
  },
  {
   "cell_type": "code",
   "execution_count": 121,
   "metadata": {},
   "outputs": [
    {
     "data": {
      "text/plain": [
       "KNeighborsClassifier(n_jobs=-1)"
      ]
     },
     "execution_count": 121,
     "metadata": {},
     "output_type": "execute_result"
    }
   ],
   "source": [
    "knn2.fit(x2t,y)"
   ]
  },
  {
   "cell_type": "code",
   "execution_count": 123,
   "metadata": {},
   "outputs": [],
   "source": [
    "pickle.dump(knn2, open('knn2.pkl', 'wb'))"
   ]
  },
  {
   "cell_type": "code",
   "execution_count": 7,
   "metadata": {},
   "outputs": [],
   "source": [
    "df2 = df2.drop(columns=['key','explicit','duration_ms'])"
   ]
  },
  {
   "cell_type": "code",
   "execution_count": 203,
   "metadata": {},
   "outputs": [
    {
     "data": {
      "text/plain": [
       "4.0    0.820764\n",
       "3.0    0.135412\n",
       "5.0    0.025253\n",
       "1.0    0.016329\n",
       "0.0    0.002242\n",
       "Name: time_signature, dtype: float64"
      ]
     },
     "execution_count": 203,
     "metadata": {},
     "output_type": "execute_result"
    }
   ],
   "source": [
    "df2['time_signature'].value_counts(normalize=True)"
   ]
  },
  {
   "cell_type": "code",
   "execution_count": 8,
   "metadata": {},
   "outputs": [],
   "source": [
    "target = 'name'\n",
    "ys = df2[target]\n",
    "Xs = df2.drop(columns=target)\n",
    "Xs = Xs.drop(columns=['album','artists', 'year', 'time_signature'])"
   ]
  },
  {
   "cell_type": "code",
   "execution_count": 9,
   "metadata": {},
   "outputs": [
    {
     "data": {
      "text/html": [
       "<div>\n",
       "<style scoped>\n",
       "    .dataframe tbody tr th:only-of-type {\n",
       "        vertical-align: middle;\n",
       "    }\n",
       "\n",
       "    .dataframe tbody tr th {\n",
       "        vertical-align: top;\n",
       "    }\n",
       "\n",
       "    .dataframe thead th {\n",
       "        text-align: right;\n",
       "    }\n",
       "</style>\n",
       "<table border=\"1\" class=\"dataframe\">\n",
       "  <thead>\n",
       "    <tr style=\"text-align: right;\">\n",
       "      <th></th>\n",
       "      <th>name</th>\n",
       "      <th>album</th>\n",
       "      <th>artists</th>\n",
       "      <th>year</th>\n",
       "    </tr>\n",
       "  </thead>\n",
       "  <tbody>\n",
       "    <tr>\n",
       "      <th>828113</th>\n",
       "      <td>Christmas Lights</td>\n",
       "      <td>Christmas Lights</td>\n",
       "      <td>Blush</td>\n",
       "      <td>2012</td>\n",
       "    </tr>\n",
       "    <tr>\n",
       "      <th>1045913</th>\n",
       "      <td>Chronosaurus</td>\n",
       "      <td>SKZ2020</td>\n",
       "      <td>Stray Kids</td>\n",
       "      <td>2020</td>\n",
       "    </tr>\n",
       "    <tr>\n",
       "      <th>367206</th>\n",
       "      <td>Squid Ink Part 2</td>\n",
       "      <td>A Real Diamond in the Rough</td>\n",
       "      <td>Buckethead</td>\n",
       "      <td>2009</td>\n",
       "    </tr>\n",
       "    <tr>\n",
       "      <th>21199</th>\n",
       "      <td>States Away</td>\n",
       "      <td>Lemonade</td>\n",
       "      <td>Breaking Laces</td>\n",
       "      <td>2005</td>\n",
       "    </tr>\n",
       "    <tr>\n",
       "      <th>780599</th>\n",
       "      <td>Keep a Light</td>\n",
       "      <td>The Troubadour</td>\n",
       "      <td>Drew De Four</td>\n",
       "      <td>2009</td>\n",
       "    </tr>\n",
       "  </tbody>\n",
       "</table>\n",
       "</div>"
      ],
      "text/plain": [
       "                     name                        album         artists  year\n",
       "828113   Christmas Lights             Christmas Lights           Blush  2012\n",
       "1045913      Chronosaurus                      SKZ2020      Stray Kids  2020\n",
       "367206   Squid Ink Part 2  A Real Diamond in the Rough      Buckethead  2009\n",
       "21199         States Away                     Lemonade  Breaking Laces  2005\n",
       "780599       Keep a Light               The Troubadour    Drew De Four  2009"
      ]
     },
     "execution_count": 9,
     "metadata": {},
     "output_type": "execute_result"
    }
   ],
   "source": [
    "allstrcols = ['name','album','artists','year']\n",
    "rectable2 = df2[allstrcols]\n",
    "rectable2.head()"
   ]
  },
  {
   "cell_type": "code",
   "execution_count": 10,
   "metadata": {},
   "outputs": [
    {
     "data": {
      "text/html": [
       "<div>\n",
       "<style scoped>\n",
       "    .dataframe tbody tr th:only-of-type {\n",
       "        vertical-align: middle;\n",
       "    }\n",
       "\n",
       "    .dataframe tbody tr th {\n",
       "        vertical-align: top;\n",
       "    }\n",
       "\n",
       "    .dataframe thead th {\n",
       "        text-align: right;\n",
       "    }\n",
       "</style>\n",
       "<table border=\"1\" class=\"dataframe\">\n",
       "  <thead>\n",
       "    <tr style=\"text-align: right;\">\n",
       "      <th></th>\n",
       "      <th>danceability</th>\n",
       "      <th>energy</th>\n",
       "      <th>loudness</th>\n",
       "      <th>mode</th>\n",
       "      <th>speechiness</th>\n",
       "      <th>acousticness</th>\n",
       "      <th>instrumentalness</th>\n",
       "      <th>liveness</th>\n",
       "      <th>valence</th>\n",
       "      <th>tempo</th>\n",
       "    </tr>\n",
       "  </thead>\n",
       "  <tbody>\n",
       "    <tr>\n",
       "      <th>828113</th>\n",
       "      <td>0.516</td>\n",
       "      <td>0.778</td>\n",
       "      <td>-5.998</td>\n",
       "      <td>1</td>\n",
       "      <td>0.0370</td>\n",
       "      <td>0.7090</td>\n",
       "      <td>0.00000</td>\n",
       "      <td>0.1750</td>\n",
       "      <td>0.5060</td>\n",
       "      <td>95.940</td>\n",
       "    </tr>\n",
       "    <tr>\n",
       "      <th>1045913</th>\n",
       "      <td>0.657</td>\n",
       "      <td>0.879</td>\n",
       "      <td>-2.733</td>\n",
       "      <td>1</td>\n",
       "      <td>0.0513</td>\n",
       "      <td>0.2840</td>\n",
       "      <td>0.00000</td>\n",
       "      <td>0.2800</td>\n",
       "      <td>0.4720</td>\n",
       "      <td>99.973</td>\n",
       "    </tr>\n",
       "    <tr>\n",
       "      <th>367206</th>\n",
       "      <td>0.250</td>\n",
       "      <td>0.124</td>\n",
       "      <td>-18.660</td>\n",
       "      <td>0</td>\n",
       "      <td>0.0526</td>\n",
       "      <td>0.8120</td>\n",
       "      <td>0.95900</td>\n",
       "      <td>0.1050</td>\n",
       "      <td>0.0342</td>\n",
       "      <td>123.479</td>\n",
       "    </tr>\n",
       "    <tr>\n",
       "      <th>21199</th>\n",
       "      <td>0.805</td>\n",
       "      <td>0.436</td>\n",
       "      <td>-10.191</td>\n",
       "      <td>1</td>\n",
       "      <td>0.0300</td>\n",
       "      <td>0.0418</td>\n",
       "      <td>0.00001</td>\n",
       "      <td>0.0742</td>\n",
       "      <td>0.7030</td>\n",
       "      <td>113.025</td>\n",
       "    </tr>\n",
       "    <tr>\n",
       "      <th>780599</th>\n",
       "      <td>0.303</td>\n",
       "      <td>0.468</td>\n",
       "      <td>-9.727</td>\n",
       "      <td>1</td>\n",
       "      <td>0.0329</td>\n",
       "      <td>0.8480</td>\n",
       "      <td>0.03440</td>\n",
       "      <td>0.1710</td>\n",
       "      <td>0.1930</td>\n",
       "      <td>118.059</td>\n",
       "    </tr>\n",
       "  </tbody>\n",
       "</table>\n",
       "</div>"
      ],
      "text/plain": [
       "         danceability  energy  loudness  mode  speechiness  acousticness  \\\n",
       "828113          0.516   0.778    -5.998     1       0.0370        0.7090   \n",
       "1045913         0.657   0.879    -2.733     1       0.0513        0.2840   \n",
       "367206          0.250   0.124   -18.660     0       0.0526        0.8120   \n",
       "21199           0.805   0.436   -10.191     1       0.0300        0.0418   \n",
       "780599          0.303   0.468    -9.727     1       0.0329        0.8480   \n",
       "\n",
       "         instrumentalness  liveness  valence    tempo  \n",
       "828113            0.00000    0.1750   0.5060   95.940  \n",
       "1045913           0.00000    0.2800   0.4720   99.973  \n",
       "367206            0.95900    0.1050   0.0342  123.479  \n",
       "21199             0.00001    0.0742   0.7030  113.025  \n",
       "780599            0.03440    0.1710   0.1930  118.059  "
      ]
     },
     "execution_count": 10,
     "metadata": {},
     "output_type": "execute_result"
    }
   ],
   "source": [
    "Xs.head()"
   ]
  },
  {
   "cell_type": "code",
   "execution_count": 13,
   "metadata": {},
   "outputs": [
    {
     "data": {
      "text/plain": [
       "KNeighborsClassifier(n_jobs=-1)"
      ]
     },
     "execution_count": 13,
     "metadata": {},
     "output_type": "execute_result"
    }
   ],
   "source": [
    "knn2.fit(Xs,ys)"
   ]
  },
  {
   "cell_type": "code",
   "execution_count": 298,
   "metadata": {},
   "outputs": [
    {
     "data": {
      "text/plain": [
       "(120402, 10)"
      ]
     },
     "execution_count": 298,
     "metadata": {},
     "output_type": "execute_result"
    }
   ],
   "source": [
    "Xs.shape"
   ]
  },
  {
   "cell_type": "code",
   "execution_count": 14,
   "metadata": {},
   "outputs": [
    {
     "data": {
      "text/html": [
       "<div>\n",
       "<style scoped>\n",
       "    .dataframe tbody tr th:only-of-type {\n",
       "        vertical-align: middle;\n",
       "    }\n",
       "\n",
       "    .dataframe tbody tr th {\n",
       "        vertical-align: top;\n",
       "    }\n",
       "\n",
       "    .dataframe thead th {\n",
       "        text-align: right;\n",
       "    }\n",
       "</style>\n",
       "<table border=\"1\" class=\"dataframe\">\n",
       "  <thead>\n",
       "    <tr style=\"text-align: right;\">\n",
       "      <th></th>\n",
       "      <th>danceability</th>\n",
       "      <th>energy</th>\n",
       "      <th>loudness</th>\n",
       "      <th>mode</th>\n",
       "      <th>speechiness</th>\n",
       "      <th>acousticness</th>\n",
       "      <th>instrumentalness</th>\n",
       "      <th>liveness</th>\n",
       "      <th>valence</th>\n",
       "      <th>tempo</th>\n",
       "    </tr>\n",
       "  </thead>\n",
       "  <tbody>\n",
       "    <tr>\n",
       "      <th>828113</th>\n",
       "      <td>0.516</td>\n",
       "      <td>0.778</td>\n",
       "      <td>-5.998</td>\n",
       "      <td>1</td>\n",
       "      <td>0.0370</td>\n",
       "      <td>0.7090</td>\n",
       "      <td>0.00000</td>\n",
       "      <td>0.1750</td>\n",
       "      <td>0.5060</td>\n",
       "      <td>95.940</td>\n",
       "    </tr>\n",
       "    <tr>\n",
       "      <th>1045913</th>\n",
       "      <td>0.657</td>\n",
       "      <td>0.879</td>\n",
       "      <td>-2.733</td>\n",
       "      <td>1</td>\n",
       "      <td>0.0513</td>\n",
       "      <td>0.2840</td>\n",
       "      <td>0.00000</td>\n",
       "      <td>0.2800</td>\n",
       "      <td>0.4720</td>\n",
       "      <td>99.973</td>\n",
       "    </tr>\n",
       "    <tr>\n",
       "      <th>367206</th>\n",
       "      <td>0.250</td>\n",
       "      <td>0.124</td>\n",
       "      <td>-18.660</td>\n",
       "      <td>0</td>\n",
       "      <td>0.0526</td>\n",
       "      <td>0.8120</td>\n",
       "      <td>0.95900</td>\n",
       "      <td>0.1050</td>\n",
       "      <td>0.0342</td>\n",
       "      <td>123.479</td>\n",
       "    </tr>\n",
       "    <tr>\n",
       "      <th>21199</th>\n",
       "      <td>0.805</td>\n",
       "      <td>0.436</td>\n",
       "      <td>-10.191</td>\n",
       "      <td>1</td>\n",
       "      <td>0.0300</td>\n",
       "      <td>0.0418</td>\n",
       "      <td>0.00001</td>\n",
       "      <td>0.0742</td>\n",
       "      <td>0.7030</td>\n",
       "      <td>113.025</td>\n",
       "    </tr>\n",
       "    <tr>\n",
       "      <th>780599</th>\n",
       "      <td>0.303</td>\n",
       "      <td>0.468</td>\n",
       "      <td>-9.727</td>\n",
       "      <td>1</td>\n",
       "      <td>0.0329</td>\n",
       "      <td>0.8480</td>\n",
       "      <td>0.03440</td>\n",
       "      <td>0.1710</td>\n",
       "      <td>0.1930</td>\n",
       "      <td>118.059</td>\n",
       "    </tr>\n",
       "  </tbody>\n",
       "</table>\n",
       "</div>"
      ],
      "text/plain": [
       "         danceability  energy  loudness  mode  speechiness  acousticness  \\\n",
       "828113          0.516   0.778    -5.998     1       0.0370        0.7090   \n",
       "1045913         0.657   0.879    -2.733     1       0.0513        0.2840   \n",
       "367206          0.250   0.124   -18.660     0       0.0526        0.8120   \n",
       "21199           0.805   0.436   -10.191     1       0.0300        0.0418   \n",
       "780599          0.303   0.468    -9.727     1       0.0329        0.8480   \n",
       "\n",
       "         instrumentalness  liveness  valence    tempo  \n",
       "828113            0.00000    0.1750   0.5060   95.940  \n",
       "1045913           0.00000    0.2800   0.4720   99.973  \n",
       "367206            0.95900    0.1050   0.0342  123.479  \n",
       "21199             0.00001    0.0742   0.7030  113.025  \n",
       "780599            0.03440    0.1710   0.1930  118.059  "
      ]
     },
     "execution_count": 14,
     "metadata": {},
     "output_type": "execute_result"
    }
   ],
   "source": [
    "Xs.head()"
   ]
  },
  {
   "cell_type": "code",
   "execution_count": 17,
   "metadata": {},
   "outputs": [
    {
     "data": {
      "text/plain": [
       "(1, 10)"
      ]
     },
     "execution_count": 17,
     "metadata": {},
     "output_type": "execute_result"
    }
   ],
   "source": [
    "# Xtst = X2.iloc[77].to_numpy()\n",
    "# Xtst = Xtst.reshape(1,-1)\n",
    "# Xtst.shape\n",
    "\n",
    "Xtst2 = Xs.iloc[95].to_numpy().reshape(1,-1)\n",
    "# Xtst = Xtst.reshape(1,-1)\n",
    "Xtst2.shape"
   ]
  },
  {
   "cell_type": "code",
   "execution_count": 338,
   "metadata": {},
   "outputs": [
    {
     "data": {
      "text/plain": [
       "array([[ 3.88000e-01,  8.79000e-01, -6.47300e+00,  0.00000e+00,\n",
       "         3.72000e-02,  2.07000e-03,  9.28000e-05,  2.95000e-01,\n",
       "         5.80000e-01,  1.56434e+02]])"
      ]
     },
     "execution_count": 338,
     "metadata": {},
     "output_type": "execute_result"
    }
   ],
   "source": [
    "Xtst2"
   ]
  },
  {
   "cell_type": "code",
   "execution_count": 18,
   "metadata": {},
   "outputs": [
    {
     "name": "stderr",
     "output_type": "stream",
     "text": [
      "C:\\Anaconda\\lib\\site-packages\\sklearn\\base.py:445: UserWarning: X does not have valid feature names, but KNeighborsClassifier was fitted with feature names\n",
      "  warnings.warn(\n"
     ]
    },
    {
     "data": {
      "text/html": [
       "<div>\n",
       "<style scoped>\n",
       "    .dataframe tbody tr th:only-of-type {\n",
       "        vertical-align: middle;\n",
       "    }\n",
       "\n",
       "    .dataframe tbody tr th {\n",
       "        vertical-align: top;\n",
       "    }\n",
       "\n",
       "    .dataframe thead th {\n",
       "        text-align: right;\n",
       "    }\n",
       "</style>\n",
       "<table border=\"1\" class=\"dataframe\">\n",
       "  <thead>\n",
       "    <tr style=\"text-align: right;\">\n",
       "      <th></th>\n",
       "      <th>name</th>\n",
       "      <th>album</th>\n",
       "      <th>artists</th>\n",
       "      <th>year</th>\n",
       "    </tr>\n",
       "  </thead>\n",
       "  <tbody>\n",
       "    <tr>\n",
       "      <th>600794</th>\n",
       "      <td>Sommar Adjö</td>\n",
       "      <td>Jan Johansson in Hamburg with Georg Riedel</td>\n",
       "      <td>Jan Johansson Georg Riedel</td>\n",
       "      <td>2011</td>\n",
       "    </tr>\n",
       "    <tr>\n",
       "      <th>121690</th>\n",
       "      <td>Winter</td>\n",
       "      <td>Winter</td>\n",
       "      <td>Glow</td>\n",
       "      <td>2008</td>\n",
       "    </tr>\n",
       "    <tr>\n",
       "      <th>484347</th>\n",
       "      <td>One Big Boss</td>\n",
       "      <td>Suitcase 4: Captain Kangaroo Won the War</td>\n",
       "      <td>Guided By Voices</td>\n",
       "      <td>2016</td>\n",
       "    </tr>\n",
       "    <tr>\n",
       "      <th>1001176</th>\n",
       "      <td>Palms</td>\n",
       "      <td>The Lights Behind Us</td>\n",
       "      <td>Sonaura</td>\n",
       "      <td>2005</td>\n",
       "    </tr>\n",
       "    <tr>\n",
       "      <th>284482</th>\n",
       "      <td>Here and Now</td>\n",
       "      <td>Jean-François Groulx</td>\n",
       "      <td>Jean-François Groulx</td>\n",
       "      <td>2009</td>\n",
       "    </tr>\n",
       "  </tbody>\n",
       "</table>\n",
       "</div>"
      ],
      "text/plain": [
       "                 name                                       album  \\\n",
       "600794    Sommar Adjö  Jan Johansson in Hamburg with Georg Riedel   \n",
       "121690         Winter                                      Winter   \n",
       "484347   One Big Boss    Suitcase 4: Captain Kangaroo Won the War   \n",
       "1001176         Palms                        The Lights Behind Us   \n",
       "284482   Here and Now                        Jean-François Groulx   \n",
       "\n",
       "                            artists  year  \n",
       "600794   Jan Johansson Georg Riedel  2011  \n",
       "121690                         Glow  2008  \n",
       "484347             Guided By Voices  2016  \n",
       "1001176                     Sonaura  2005  \n",
       "284482         Jean-François Groulx  2009  "
      ]
     },
     "execution_count": 18,
     "metadata": {},
     "output_type": "execute_result"
    }
   ],
   "source": [
    "recnums2 = knn2.kneighbors(Xtst2, 5, return_distance=False)\n",
    "recnumlist2=recnums2.tolist()[0]\n",
    "rectable2.iloc[recnumlist2]"
   ]
  },
  {
   "cell_type": "code",
   "execution_count": 218,
   "metadata": {},
   "outputs": [
    {
     "data": {
      "text/plain": [
       "[77, 597350, 34748, 1165689, 1030881]"
      ]
     },
     "execution_count": 218,
     "metadata": {},
     "output_type": "execute_result"
    }
   ],
   "source": [
    "recnumlist"
   ]
  },
  {
   "cell_type": "code",
   "execution_count": 19,
   "metadata": {},
   "outputs": [],
   "source": [
    "pickle.dump(knn2, open('model.pkl', 'wb'))"
   ]
  },
  {
   "cell_type": "code",
   "execution_count": 20,
   "metadata": {},
   "outputs": [],
   "source": [
    "Song_data = rectable2\n",
    "Song_data.to_csv('Song_data.csv')"
   ]
  },
  {
   "cell_type": "code",
   "execution_count": 22,
   "metadata": {},
   "outputs": [
    {
     "data": {
      "text/html": [
       "<div>\n",
       "<style scoped>\n",
       "    .dataframe tbody tr th:only-of-type {\n",
       "        vertical-align: middle;\n",
       "    }\n",
       "\n",
       "    .dataframe tbody tr th {\n",
       "        vertical-align: top;\n",
       "    }\n",
       "\n",
       "    .dataframe thead th {\n",
       "        text-align: right;\n",
       "    }\n",
       "</style>\n",
       "<table border=\"1\" class=\"dataframe\">\n",
       "  <thead>\n",
       "    <tr style=\"text-align: right;\">\n",
       "      <th></th>\n",
       "      <th>name</th>\n",
       "      <th>album</th>\n",
       "      <th>artists</th>\n",
       "      <th>year</th>\n",
       "    </tr>\n",
       "  </thead>\n",
       "  <tbody>\n",
       "    <tr>\n",
       "      <th>828113</th>\n",
       "      <td>Christmas Lights</td>\n",
       "      <td>Christmas Lights</td>\n",
       "      <td>Blush</td>\n",
       "      <td>2012</td>\n",
       "    </tr>\n",
       "    <tr>\n",
       "      <th>1045913</th>\n",
       "      <td>Chronosaurus</td>\n",
       "      <td>SKZ2020</td>\n",
       "      <td>Stray Kids</td>\n",
       "      <td>2020</td>\n",
       "    </tr>\n",
       "    <tr>\n",
       "      <th>367206</th>\n",
       "      <td>Squid Ink Part 2</td>\n",
       "      <td>A Real Diamond in the Rough</td>\n",
       "      <td>Buckethead</td>\n",
       "      <td>2009</td>\n",
       "    </tr>\n",
       "    <tr>\n",
       "      <th>21199</th>\n",
       "      <td>States Away</td>\n",
       "      <td>Lemonade</td>\n",
       "      <td>Breaking Laces</td>\n",
       "      <td>2005</td>\n",
       "    </tr>\n",
       "    <tr>\n",
       "      <th>780599</th>\n",
       "      <td>Keep a Light</td>\n",
       "      <td>The Troubadour</td>\n",
       "      <td>Drew De Four</td>\n",
       "      <td>2009</td>\n",
       "    </tr>\n",
       "    <tr>\n",
       "      <th>125978</th>\n",
       "      <td>Gracias a la Vida</td>\n",
       "      <td>Sola</td>\n",
       "      <td>Amanda Martinez</td>\n",
       "      <td>2006</td>\n",
       "    </tr>\n",
       "    <tr>\n",
       "      <th>34585</th>\n",
       "      <td>Glass Houses</td>\n",
       "      <td>Our Last Escape</td>\n",
       "      <td>Aaron Booth</td>\n",
       "      <td>2004</td>\n",
       "    </tr>\n",
       "    <tr>\n",
       "      <th>131795</th>\n",
       "      <td>Thinking About Bix</td>\n",
       "      <td>Thinking About Bix</td>\n",
       "      <td>Dick Hyman</td>\n",
       "      <td>2012</td>\n",
       "    </tr>\n",
       "    <tr>\n",
       "      <th>922723</th>\n",
       "      <td>Daydream</td>\n",
       "      <td>Deep Elm Sampler No. 12 \"Sometimes I See You i...</td>\n",
       "      <td>Carly Comando</td>\n",
       "      <td>2014</td>\n",
       "    </tr>\n",
       "    <tr>\n",
       "      <th>549485</th>\n",
       "      <td>Piano Concerto No. 27 in B-Flat Major, Op. 17,...</td>\n",
       "      <td>Mozart: Piano Concertos Nos. 9 and 27</td>\n",
       "      <td>Wolfgang Amadeus Mozart Jenő Jandó Concentus H...</td>\n",
       "      <td>1990</td>\n",
       "    </tr>\n",
       "    <tr>\n",
       "      <th>799033</th>\n",
       "      <td>Good Enough</td>\n",
       "      <td>The Downfall</td>\n",
       "      <td>Living the Panic</td>\n",
       "      <td>2015</td>\n",
       "    </tr>\n",
       "    <tr>\n",
       "      <th>425304</th>\n",
       "      <td>Worth the Wait</td>\n",
       "      <td>KC</td>\n",
       "      <td>KC Concepcion</td>\n",
       "      <td>2010</td>\n",
       "    </tr>\n",
       "    <tr>\n",
       "      <th>766507</th>\n",
       "      <td>Demise Automation</td>\n",
       "      <td>Errorzone</td>\n",
       "      <td>Vein</td>\n",
       "      <td>2018</td>\n",
       "    </tr>\n",
       "    <tr>\n",
       "      <th>1064768</th>\n",
       "      <td>Put Your Dreams Away</td>\n",
       "      <td>Family Fugue</td>\n",
       "      <td>Bucky Pizzarelli/John Pizzarelli</td>\n",
       "      <td>2011</td>\n",
       "    </tr>\n",
       "    <tr>\n",
       "      <th>732038</th>\n",
       "      <td>Dark Places</td>\n",
       "      <td>Transform</td>\n",
       "      <td>ackzz</td>\n",
       "      <td>2017</td>\n",
       "    </tr>\n",
       "    <tr>\n",
       "      <th>248719</th>\n",
       "      <td>Traffic</td>\n",
       "      <td>Eternally Hard</td>\n",
       "      <td>Bitch and Animal</td>\n",
       "      <td>1997</td>\n",
       "    </tr>\n",
       "    <tr>\n",
       "      <th>97192</th>\n",
       "      <td>NYC Always Reminds Me</td>\n",
       "      <td>Honky Reduction</td>\n",
       "      <td>Agoraphobic Nosebleed</td>\n",
       "      <td>1998</td>\n",
       "    </tr>\n",
       "    <tr>\n",
       "      <th>42233</th>\n",
       "      <td>Blackjack</td>\n",
       "      <td>Classic Bluegrass</td>\n",
       "      <td>Del McCoury</td>\n",
       "      <td>2005</td>\n",
       "    </tr>\n",
       "    <tr>\n",
       "      <th>965787</th>\n",
       "      <td>Banadietrich, Op. 6: Act III: Prelude, \"Das wi...</td>\n",
       "      <td>Wagner, S.: Complete Overtures, Vol. 3</td>\n",
       "      <td>Siegfried Wagner Rheinland-Pfalz State Philhar...</td>\n",
       "      <td>1996</td>\n",
       "    </tr>\n",
       "    <tr>\n",
       "      <th>272415</th>\n",
       "      <td>And I Wonder</td>\n",
       "      <td>Live At the Horseshoe Tavern</td>\n",
       "      <td>Tobin Sprout</td>\n",
       "      <td>2005</td>\n",
       "    </tr>\n",
       "  </tbody>\n",
       "</table>\n",
       "</div>"
      ],
      "text/plain": [
       "                                                      name  \\\n",
       "828113                                    Christmas Lights   \n",
       "1045913                                       Chronosaurus   \n",
       "367206                                    Squid Ink Part 2   \n",
       "21199                                          States Away   \n",
       "780599                                        Keep a Light   \n",
       "125978                                   Gracias a la Vida   \n",
       "34585                                         Glass Houses   \n",
       "131795                                  Thinking About Bix   \n",
       "922723                                            Daydream   \n",
       "549485   Piano Concerto No. 27 in B-Flat Major, Op. 17,...   \n",
       "799033                                         Good Enough   \n",
       "425304                                      Worth the Wait   \n",
       "766507                                   Demise Automation   \n",
       "1064768                               Put Your Dreams Away   \n",
       "732038                                         Dark Places   \n",
       "248719                                             Traffic   \n",
       "97192                                NYC Always Reminds Me   \n",
       "42233                                            Blackjack   \n",
       "965787   Banadietrich, Op. 6: Act III: Prelude, \"Das wi...   \n",
       "272415                                        And I Wonder   \n",
       "\n",
       "                                                     album  \\\n",
       "828113                                    Christmas Lights   \n",
       "1045913                                            SKZ2020   \n",
       "367206                         A Real Diamond in the Rough   \n",
       "21199                                             Lemonade   \n",
       "780599                                      The Troubadour   \n",
       "125978                                                Sola   \n",
       "34585                                      Our Last Escape   \n",
       "131795                                  Thinking About Bix   \n",
       "922723   Deep Elm Sampler No. 12 \"Sometimes I See You i...   \n",
       "549485               Mozart: Piano Concertos Nos. 9 and 27   \n",
       "799033                                        The Downfall   \n",
       "425304                                                  KC   \n",
       "766507                                           Errorzone   \n",
       "1064768                                       Family Fugue   \n",
       "732038                                           Transform   \n",
       "248719                                      Eternally Hard   \n",
       "97192                                      Honky Reduction   \n",
       "42233                                    Classic Bluegrass   \n",
       "965787              Wagner, S.: Complete Overtures, Vol. 3   \n",
       "272415                        Live At the Horseshoe Tavern   \n",
       "\n",
       "                                                   artists  year  \n",
       "828113                                               Blush  2012  \n",
       "1045913                                         Stray Kids  2020  \n",
       "367206                                          Buckethead  2009  \n",
       "21199                                       Breaking Laces  2005  \n",
       "780599                                        Drew De Four  2009  \n",
       "125978                                     Amanda Martinez  2006  \n",
       "34585                                          Aaron Booth  2004  \n",
       "131795                                          Dick Hyman  2012  \n",
       "922723                                       Carly Comando  2014  \n",
       "549485   Wolfgang Amadeus Mozart Jenő Jandó Concentus H...  1990  \n",
       "799033                                    Living the Panic  2015  \n",
       "425304                                       KC Concepcion  2010  \n",
       "766507                                                Vein  2018  \n",
       "1064768                   Bucky Pizzarelli/John Pizzarelli  2011  \n",
       "732038                                               ackzz  2017  \n",
       "248719                                    Bitch and Animal  1997  \n",
       "97192                                Agoraphobic Nosebleed  1998  \n",
       "42233                                          Del McCoury  2005  \n",
       "965787   Siegfried Wagner Rheinland-Pfalz State Philhar...  1996  \n",
       "272415                                        Tobin Sprout  2005  "
      ]
     },
     "execution_count": 22,
     "metadata": {},
     "output_type": "execute_result"
    }
   ],
   "source": [
    "Song_data = pd.read_csv('Song_data.csv', index_col=0)\n",
    "Song_data.head(20)"
   ]
  },
  {
   "cell_type": "code",
   "execution_count": 310,
   "metadata": {},
   "outputs": [
    {
     "data": {
      "text/html": [
       "<div>\n",
       "<style scoped>\n",
       "    .dataframe tbody tr th:only-of-type {\n",
       "        vertical-align: middle;\n",
       "    }\n",
       "\n",
       "    .dataframe tbody tr th {\n",
       "        vertical-align: top;\n",
       "    }\n",
       "\n",
       "    .dataframe thead th {\n",
       "        text-align: right;\n",
       "    }\n",
       "</style>\n",
       "<table border=\"1\" class=\"dataframe\">\n",
       "  <thead>\n",
       "    <tr style=\"text-align: right;\">\n",
       "      <th></th>\n",
       "      <th>name</th>\n",
       "      <th>album</th>\n",
       "      <th>artists</th>\n",
       "      <th>year</th>\n",
       "    </tr>\n",
       "  </thead>\n",
       "  <tbody>\n",
       "    <tr>\n",
       "      <th>720812</th>\n",
       "      <td>The Ledge</td>\n",
       "      <td>All for Nothing / Nothing for All</td>\n",
       "      <td>The Replacements</td>\n",
       "      <td>1997</td>\n",
       "    </tr>\n",
       "    <tr>\n",
       "      <th>186986</th>\n",
       "      <td>Writers Block</td>\n",
       "      <td>Windmills and Wishes</td>\n",
       "      <td>Ange Hardy</td>\n",
       "      <td>2010</td>\n",
       "    </tr>\n",
       "    <tr>\n",
       "      <th>95956</th>\n",
       "      <td>My Enemy</td>\n",
       "      <td>Behind Every Door</td>\n",
       "      <td>Neverset</td>\n",
       "      <td>2006</td>\n",
       "    </tr>\n",
       "    <tr>\n",
       "      <th>504036</th>\n",
       "      <td>Rebels</td>\n",
       "      <td>Blurred</td>\n",
       "      <td>Genesis Elijah</td>\n",
       "      <td>2020</td>\n",
       "    </tr>\n",
       "    <tr>\n",
       "      <th>793851</th>\n",
       "      <td>Quicksand Under Carpet - UK Single Version</td>\n",
       "      <td>Winter's Kill</td>\n",
       "      <td>New Radiant Storm King</td>\n",
       "      <td>2014</td>\n",
       "    </tr>\n",
       "  </tbody>\n",
       "</table>\n",
       "</div>"
      ],
      "text/plain": [
       "                                              name  \\\n",
       "720812                                   The Ledge   \n",
       "186986                               Writers Block   \n",
       "95956                                     My Enemy   \n",
       "504036                                      Rebels   \n",
       "793851  Quicksand Under Carpet - UK Single Version   \n",
       "\n",
       "                                    album                 artists  year  \n",
       "720812  All for Nothing / Nothing for All        The Replacements  1997  \n",
       "186986               Windmills and Wishes              Ange Hardy  2010  \n",
       "95956                   Behind Every Door                Neverset  2006  \n",
       "504036                            Blurred          Genesis Elijah  2020  \n",
       "793851                      Winter's Kill  New Radiant Storm King  2014  "
      ]
     },
     "execution_count": 310,
     "metadata": {},
     "output_type": "execute_result"
    }
   ],
   "source": [
    "Song_data.iloc[recnumlist2]"
   ]
  },
  {
   "cell_type": "code",
   "execution_count": 327,
   "metadata": {},
   "outputs": [
    {
     "data": {
      "text/html": [
       "<div>\n",
       "<style scoped>\n",
       "    .dataframe tbody tr th:only-of-type {\n",
       "        vertical-align: middle;\n",
       "    }\n",
       "\n",
       "    .dataframe tbody tr th {\n",
       "        vertical-align: top;\n",
       "    }\n",
       "\n",
       "    .dataframe thead th {\n",
       "        text-align: right;\n",
       "    }\n",
       "</style>\n",
       "<table border=\"1\" class=\"dataframe\">\n",
       "  <thead>\n",
       "    <tr style=\"text-align: right;\">\n",
       "      <th></th>\n",
       "      <th>danceability</th>\n",
       "      <th>energy</th>\n",
       "      <th>loudness</th>\n",
       "      <th>mode</th>\n",
       "      <th>speechiness</th>\n",
       "      <th>acousticness</th>\n",
       "      <th>instrumentalness</th>\n",
       "      <th>liveness</th>\n",
       "      <th>valence</th>\n",
       "      <th>tempo</th>\n",
       "    </tr>\n",
       "  </thead>\n",
       "  <tbody>\n",
       "    <tr>\n",
       "      <th>828113</th>\n",
       "      <td>0.516</td>\n",
       "      <td>0.778</td>\n",
       "      <td>-5.998</td>\n",
       "      <td>1</td>\n",
       "      <td>0.0370</td>\n",
       "      <td>0.7090</td>\n",
       "      <td>0.00000</td>\n",
       "      <td>0.1750</td>\n",
       "      <td>0.5060</td>\n",
       "      <td>95.940</td>\n",
       "    </tr>\n",
       "    <tr>\n",
       "      <th>1045913</th>\n",
       "      <td>0.657</td>\n",
       "      <td>0.879</td>\n",
       "      <td>-2.733</td>\n",
       "      <td>1</td>\n",
       "      <td>0.0513</td>\n",
       "      <td>0.2840</td>\n",
       "      <td>0.00000</td>\n",
       "      <td>0.2800</td>\n",
       "      <td>0.4720</td>\n",
       "      <td>99.973</td>\n",
       "    </tr>\n",
       "    <tr>\n",
       "      <th>367206</th>\n",
       "      <td>0.250</td>\n",
       "      <td>0.124</td>\n",
       "      <td>-18.660</td>\n",
       "      <td>0</td>\n",
       "      <td>0.0526</td>\n",
       "      <td>0.8120</td>\n",
       "      <td>0.95900</td>\n",
       "      <td>0.1050</td>\n",
       "      <td>0.0342</td>\n",
       "      <td>123.479</td>\n",
       "    </tr>\n",
       "    <tr>\n",
       "      <th>21199</th>\n",
       "      <td>0.805</td>\n",
       "      <td>0.436</td>\n",
       "      <td>-10.191</td>\n",
       "      <td>1</td>\n",
       "      <td>0.0300</td>\n",
       "      <td>0.0418</td>\n",
       "      <td>0.00001</td>\n",
       "      <td>0.0742</td>\n",
       "      <td>0.7030</td>\n",
       "      <td>113.025</td>\n",
       "    </tr>\n",
       "    <tr>\n",
       "      <th>780599</th>\n",
       "      <td>0.303</td>\n",
       "      <td>0.468</td>\n",
       "      <td>-9.727</td>\n",
       "      <td>1</td>\n",
       "      <td>0.0329</td>\n",
       "      <td>0.8480</td>\n",
       "      <td>0.03440</td>\n",
       "      <td>0.1710</td>\n",
       "      <td>0.1930</td>\n",
       "      <td>118.059</td>\n",
       "    </tr>\n",
       "  </tbody>\n",
       "</table>\n",
       "</div>"
      ],
      "text/plain": [
       "         danceability  energy  loudness  mode  speechiness  acousticness  \\\n",
       "828113          0.516   0.778    -5.998     1       0.0370        0.7090   \n",
       "1045913         0.657   0.879    -2.733     1       0.0513        0.2840   \n",
       "367206          0.250   0.124   -18.660     0       0.0526        0.8120   \n",
       "21199           0.805   0.436   -10.191     1       0.0300        0.0418   \n",
       "780599          0.303   0.468    -9.727     1       0.0329        0.8480   \n",
       "\n",
       "         instrumentalness  liveness  valence    tempo  \n",
       "828113            0.00000    0.1750   0.5060   95.940  \n",
       "1045913           0.00000    0.2800   0.4720   99.973  \n",
       "367206            0.95900    0.1050   0.0342  123.479  \n",
       "21199             0.00001    0.0742   0.7030  113.025  \n",
       "780599            0.03440    0.1710   0.1930  118.059  "
      ]
     },
     "execution_count": 327,
     "metadata": {},
     "output_type": "execute_result"
    }
   ],
   "source": [
    "Xs.head()"
   ]
  },
  {
   "cell_type": "markdown",
   "metadata": {},
   "source": [
    "## Full Model and functions (Depriciated)\n",
    "former use: Used to have a clean result rather than spending time cleaning experiments"
   ]
  },
  {
   "cell_type": "markdown",
   "metadata": {},
   "source": [
    "# Testing API\n",
    "testing the api before using it in a function."
   ]
  },
  {
   "cell_type": "code",
   "execution_count": 311,
   "metadata": {},
   "outputs": [],
   "source": [
    "CLIENT_ID = '00b86059cf3041e59392d702ed0348c7' \n",
    "CLIENT_SECRET = 'dd97033d320f4d2c90b878d2fc52a0ab'"
   ]
  },
  {
   "cell_type": "code",
   "execution_count": 332,
   "metadata": {},
   "outputs": [
    {
     "data": {
      "text/html": [
       "<div>\n",
       "<style scoped>\n",
       "    .dataframe tbody tr th:only-of-type {\n",
       "        vertical-align: middle;\n",
       "    }\n",
       "\n",
       "    .dataframe tbody tr th {\n",
       "        vertical-align: top;\n",
       "    }\n",
       "\n",
       "    .dataframe thead th {\n",
       "        text-align: right;\n",
       "    }\n",
       "</style>\n",
       "<table border=\"1\" class=\"dataframe\">\n",
       "  <thead>\n",
       "    <tr style=\"text-align: right;\">\n",
       "      <th></th>\n",
       "      <th>song_name</th>\n",
       "      <th>album</th>\n",
       "      <th>artists</th>\n",
       "      <th>danceability</th>\n",
       "      <th>energy</th>\n",
       "      <th>loudness</th>\n",
       "      <th>mode</th>\n",
       "      <th>speechiness</th>\n",
       "      <th>acousticness</th>\n",
       "      <th>instrumentalness</th>\n",
       "      <th>liveness</th>\n",
       "      <th>valence</th>\n",
       "      <th>tempo</th>\n",
       "      <th>time_signature</th>\n",
       "      <th>year</th>\n",
       "    </tr>\n",
       "  </thead>\n",
       "  <tbody>\n",
       "    <tr>\n",
       "      <th>828113</th>\n",
       "      <td>Christmas Lights</td>\n",
       "      <td>Christmas Lights</td>\n",
       "      <td>Blush</td>\n",
       "      <td>0.516</td>\n",
       "      <td>0.778</td>\n",
       "      <td>-5.998</td>\n",
       "      <td>1</td>\n",
       "      <td>0.0370</td>\n",
       "      <td>0.7090</td>\n",
       "      <td>0.00000</td>\n",
       "      <td>0.1750</td>\n",
       "      <td>0.5060</td>\n",
       "      <td>95.940</td>\n",
       "      <td>4.0</td>\n",
       "      <td>2012</td>\n",
       "    </tr>\n",
       "    <tr>\n",
       "      <th>1045913</th>\n",
       "      <td>Chronosaurus</td>\n",
       "      <td>SKZ2020</td>\n",
       "      <td>Stray Kids</td>\n",
       "      <td>0.657</td>\n",
       "      <td>0.879</td>\n",
       "      <td>-2.733</td>\n",
       "      <td>1</td>\n",
       "      <td>0.0513</td>\n",
       "      <td>0.2840</td>\n",
       "      <td>0.00000</td>\n",
       "      <td>0.2800</td>\n",
       "      <td>0.4720</td>\n",
       "      <td>99.973</td>\n",
       "      <td>4.0</td>\n",
       "      <td>2020</td>\n",
       "    </tr>\n",
       "    <tr>\n",
       "      <th>367206</th>\n",
       "      <td>Squid Ink Part 2</td>\n",
       "      <td>A Real Diamond in the Rough</td>\n",
       "      <td>Buckethead</td>\n",
       "      <td>0.250</td>\n",
       "      <td>0.124</td>\n",
       "      <td>-18.660</td>\n",
       "      <td>0</td>\n",
       "      <td>0.0526</td>\n",
       "      <td>0.8120</td>\n",
       "      <td>0.95900</td>\n",
       "      <td>0.1050</td>\n",
       "      <td>0.0342</td>\n",
       "      <td>123.479</td>\n",
       "      <td>4.0</td>\n",
       "      <td>2009</td>\n",
       "    </tr>\n",
       "    <tr>\n",
       "      <th>21199</th>\n",
       "      <td>States Away</td>\n",
       "      <td>Lemonade</td>\n",
       "      <td>Breaking Laces</td>\n",
       "      <td>0.805</td>\n",
       "      <td>0.436</td>\n",
       "      <td>-10.191</td>\n",
       "      <td>1</td>\n",
       "      <td>0.0300</td>\n",
       "      <td>0.0418</td>\n",
       "      <td>0.00001</td>\n",
       "      <td>0.0742</td>\n",
       "      <td>0.7030</td>\n",
       "      <td>113.025</td>\n",
       "      <td>4.0</td>\n",
       "      <td>2005</td>\n",
       "    </tr>\n",
       "    <tr>\n",
       "      <th>780599</th>\n",
       "      <td>Keep a Light</td>\n",
       "      <td>The Troubadour</td>\n",
       "      <td>Drew De Four</td>\n",
       "      <td>0.303</td>\n",
       "      <td>0.468</td>\n",
       "      <td>-9.727</td>\n",
       "      <td>1</td>\n",
       "      <td>0.0329</td>\n",
       "      <td>0.8480</td>\n",
       "      <td>0.03440</td>\n",
       "      <td>0.1710</td>\n",
       "      <td>0.1930</td>\n",
       "      <td>118.059</td>\n",
       "      <td>4.0</td>\n",
       "      <td>2009</td>\n",
       "    </tr>\n",
       "  </tbody>\n",
       "</table>\n",
       "</div>"
      ],
      "text/plain": [
       "                song_name                        album         artists  \\\n",
       "828113   Christmas Lights             Christmas Lights           Blush   \n",
       "1045913      Chronosaurus                      SKZ2020      Stray Kids   \n",
       "367206   Squid Ink Part 2  A Real Diamond in the Rough      Buckethead   \n",
       "21199         States Away                     Lemonade  Breaking Laces   \n",
       "780599       Keep a Light               The Troubadour    Drew De Four   \n",
       "\n",
       "         danceability  energy  loudness  mode  speechiness  acousticness  \\\n",
       "828113          0.516   0.778    -5.998     1       0.0370        0.7090   \n",
       "1045913         0.657   0.879    -2.733     1       0.0513        0.2840   \n",
       "367206          0.250   0.124   -18.660     0       0.0526        0.8120   \n",
       "21199           0.805   0.436   -10.191     1       0.0300        0.0418   \n",
       "780599          0.303   0.468    -9.727     1       0.0329        0.8480   \n",
       "\n",
       "         instrumentalness  liveness  valence    tempo  time_signature  year  \n",
       "828113            0.00000    0.1750   0.5060   95.940             4.0  2012  \n",
       "1045913           0.00000    0.2800   0.4720   99.973             4.0  2020  \n",
       "367206            0.95900    0.1050   0.0342  123.479             4.0  2009  \n",
       "21199             0.00001    0.0742   0.7030  113.025             4.0  2005  \n",
       "780599            0.03440    0.1710   0.1930  118.059             4.0  2009  "
      ]
     },
     "execution_count": 332,
     "metadata": {},
     "output_type": "execute_result"
    }
   ],
   "source": [
    "df2.rename(mapper={'name':'song_name'},axis='columns', inplace=True)\n",
    "df2.head()"
   ]
  },
  {
   "cell_type": "code",
   "execution_count": null,
   "metadata": {},
   "outputs": [],
   "source": []
  },
  {
   "cell_type": "markdown",
   "metadata": {},
   "source": [
    "# Py functions\n",
    "This area will be used to create and test the functions that will make up the py files that the app will use.  It will have reimports for easy transfer to the .py file that will be built."
   ]
  },
  {
   "cell_type": "code",
   "execution_count": null,
   "metadata": {},
   "outputs": [],
   "source": [
    "import pandas as pd\n",
    "import numpy as np\n",
    "from sklearn.neighbors import KNeighborsClassifier\n",
    "import pickle\n",
    "import requests"
   ]
  },
  {
   "cell_type": "code",
   "execution_count": 339,
   "metadata": {},
   "outputs": [],
   "source": [
    "dummy_data = np.array([[ 3.88000e-01,  8.79000e-01, -6.47300e+00,  0.00000e+00,\n",
    "         3.72000e-02,  2.07000e-03,  9.28000e-05,  2.95000e-01,\n",
    "         5.80000e-01,  1.56434e+02]])"
   ]
  },
  {
   "cell_type": "code",
   "execution_count": 342,
   "metadata": {},
   "outputs": [],
   "source": [
    "model = pickle.load(open('model.pkl', 'rb'))\n",
    "Song_data = pd.read_csv('Song_data.csv', index_col=0)\n",
    "\n",
    "def get_recommendation(user_song_data):\n",
    "\n",
    "    rec_raw = model.kneighbors(user_song_data, 5, return_distance=False)\n",
    "    rec_list=rec_raw.tolist()[0]\n",
    "    return Song_data.iloc[rec_list]\n"
   ]
  },
  {
   "cell_type": "code",
   "execution_count": 343,
   "metadata": {},
   "outputs": [
    {
     "name": "stderr",
     "output_type": "stream",
     "text": [
      "C:\\Anaconda\\lib\\site-packages\\sklearn\\base.py:445: UserWarning: X does not have valid feature names, but KNeighborsClassifier was fitted with feature names\n",
      "  warnings.warn(\n"
     ]
    },
    {
     "data": {
      "text/html": [
       "<div>\n",
       "<style scoped>\n",
       "    .dataframe tbody tr th:only-of-type {\n",
       "        vertical-align: middle;\n",
       "    }\n",
       "\n",
       "    .dataframe tbody tr th {\n",
       "        vertical-align: top;\n",
       "    }\n",
       "\n",
       "    .dataframe thead th {\n",
       "        text-align: right;\n",
       "    }\n",
       "</style>\n",
       "<table border=\"1\" class=\"dataframe\">\n",
       "  <thead>\n",
       "    <tr style=\"text-align: right;\">\n",
       "      <th></th>\n",
       "      <th>name</th>\n",
       "      <th>album</th>\n",
       "      <th>artists</th>\n",
       "      <th>year</th>\n",
       "    </tr>\n",
       "  </thead>\n",
       "  <tbody>\n",
       "    <tr>\n",
       "      <th>720812</th>\n",
       "      <td>The Ledge</td>\n",
       "      <td>All for Nothing / Nothing for All</td>\n",
       "      <td>The Replacements</td>\n",
       "      <td>1997</td>\n",
       "    </tr>\n",
       "    <tr>\n",
       "      <th>186986</th>\n",
       "      <td>Writers Block</td>\n",
       "      <td>Windmills and Wishes</td>\n",
       "      <td>Ange Hardy</td>\n",
       "      <td>2010</td>\n",
       "    </tr>\n",
       "    <tr>\n",
       "      <th>95956</th>\n",
       "      <td>My Enemy</td>\n",
       "      <td>Behind Every Door</td>\n",
       "      <td>Neverset</td>\n",
       "      <td>2006</td>\n",
       "    </tr>\n",
       "    <tr>\n",
       "      <th>504036</th>\n",
       "      <td>Rebels</td>\n",
       "      <td>Blurred</td>\n",
       "      <td>Genesis Elijah</td>\n",
       "      <td>2020</td>\n",
       "    </tr>\n",
       "    <tr>\n",
       "      <th>793851</th>\n",
       "      <td>Quicksand Under Carpet - UK Single Version</td>\n",
       "      <td>Winter's Kill</td>\n",
       "      <td>New Radiant Storm King</td>\n",
       "      <td>2014</td>\n",
       "    </tr>\n",
       "  </tbody>\n",
       "</table>\n",
       "</div>"
      ],
      "text/plain": [
       "                                              name  \\\n",
       "720812                                   The Ledge   \n",
       "186986                               Writers Block   \n",
       "95956                                     My Enemy   \n",
       "504036                                      Rebels   \n",
       "793851  Quicksand Under Carpet - UK Single Version   \n",
       "\n",
       "                                    album                 artists  year  \n",
       "720812  All for Nothing / Nothing for All        The Replacements  1997  \n",
       "186986               Windmills and Wishes              Ange Hardy  2010  \n",
       "95956                   Behind Every Door                Neverset  2006  \n",
       "504036                            Blurred          Genesis Elijah  2020  \n",
       "793851                      Winter's Kill  New Radiant Storm King  2014  "
      ]
     },
     "execution_count": 343,
     "metadata": {},
     "output_type": "execute_result"
    }
   ],
   "source": [
    "get_recommendation(dummy_data)"
   ]
  },
  {
   "cell_type": "code",
   "execution_count": null,
   "metadata": {},
   "outputs": [],
   "source": [
    "'''Query Spotify API based on Artist name and Track, convert using 'audio analysis' to match comparasion dataset'''\n",
    "\n",
    "from os import getenv\n",
    "import spotipy\n",
    "from spotipy.oauth2 import SpotifyClientCredentials\n",
    "import pandas as pd\n",
    "import numpy as np\n",
    "\n",
    "# Initalize spotipy\n",
    "spotify = spotipy.Spotify(client_credentials_manager=SpotifyClientCredentials())\n",
    "\n",
    "def convert(artist, track):\n",
    "    track_search= spotify.search(q='artist:' + artist + ' track:' + track, type='track', limit=1, market='US')\n",
    "    track_id = track_search['tracks']['items'][0]['id']\n",
    "    user_audio = spotify.audio_features(track_id)\n",
    "    df = pd.DataFrame.from_records(user_audio)\n",
    "    df.drop(columns = ['key', 'type', 'id', 'uri', 'track_href', 'analysis_url', 'duration_ms', 'time_signature'], inplace=True)\n",
    "    df.to_numpy().reshape(1,-1)\n",
    "    return (df)"
   ]
  },
  {
   "cell_type": "code",
   "execution_count": 23,
   "metadata": {},
   "outputs": [
    {
     "data": {
      "text/html": [
       "<div>\n",
       "<style scoped>\n",
       "    .dataframe tbody tr th:only-of-type {\n",
       "        vertical-align: middle;\n",
       "    }\n",
       "\n",
       "    .dataframe tbody tr th {\n",
       "        vertical-align: top;\n",
       "    }\n",
       "\n",
       "    .dataframe thead th {\n",
       "        text-align: right;\n",
       "    }\n",
       "</style>\n",
       "<table border=\"1\" class=\"dataframe\">\n",
       "  <thead>\n",
       "    <tr style=\"text-align: right;\">\n",
       "      <th></th>\n",
       "      <th>danceability</th>\n",
       "      <th>energy</th>\n",
       "      <th>loudness</th>\n",
       "      <th>mode</th>\n",
       "      <th>speechiness</th>\n",
       "      <th>acousticness</th>\n",
       "      <th>instrumentalness</th>\n",
       "      <th>liveness</th>\n",
       "      <th>valence</th>\n",
       "      <th>tempo</th>\n",
       "    </tr>\n",
       "  </thead>\n",
       "  <tbody>\n",
       "    <tr>\n",
       "      <th>828113</th>\n",
       "      <td>0.516</td>\n",
       "      <td>0.778</td>\n",
       "      <td>-5.998</td>\n",
       "      <td>1</td>\n",
       "      <td>0.0370</td>\n",
       "      <td>0.7090</td>\n",
       "      <td>0.00000</td>\n",
       "      <td>0.1750</td>\n",
       "      <td>0.5060</td>\n",
       "      <td>95.940</td>\n",
       "    </tr>\n",
       "    <tr>\n",
       "      <th>1045913</th>\n",
       "      <td>0.657</td>\n",
       "      <td>0.879</td>\n",
       "      <td>-2.733</td>\n",
       "      <td>1</td>\n",
       "      <td>0.0513</td>\n",
       "      <td>0.2840</td>\n",
       "      <td>0.00000</td>\n",
       "      <td>0.2800</td>\n",
       "      <td>0.4720</td>\n",
       "      <td>99.973</td>\n",
       "    </tr>\n",
       "    <tr>\n",
       "      <th>367206</th>\n",
       "      <td>0.250</td>\n",
       "      <td>0.124</td>\n",
       "      <td>-18.660</td>\n",
       "      <td>0</td>\n",
       "      <td>0.0526</td>\n",
       "      <td>0.8120</td>\n",
       "      <td>0.95900</td>\n",
       "      <td>0.1050</td>\n",
       "      <td>0.0342</td>\n",
       "      <td>123.479</td>\n",
       "    </tr>\n",
       "    <tr>\n",
       "      <th>21199</th>\n",
       "      <td>0.805</td>\n",
       "      <td>0.436</td>\n",
       "      <td>-10.191</td>\n",
       "      <td>1</td>\n",
       "      <td>0.0300</td>\n",
       "      <td>0.0418</td>\n",
       "      <td>0.00001</td>\n",
       "      <td>0.0742</td>\n",
       "      <td>0.7030</td>\n",
       "      <td>113.025</td>\n",
       "    </tr>\n",
       "    <tr>\n",
       "      <th>780599</th>\n",
       "      <td>0.303</td>\n",
       "      <td>0.468</td>\n",
       "      <td>-9.727</td>\n",
       "      <td>1</td>\n",
       "      <td>0.0329</td>\n",
       "      <td>0.8480</td>\n",
       "      <td>0.03440</td>\n",
       "      <td>0.1710</td>\n",
       "      <td>0.1930</td>\n",
       "      <td>118.059</td>\n",
       "    </tr>\n",
       "  </tbody>\n",
       "</table>\n",
       "</div>"
      ],
      "text/plain": [
       "         danceability  energy  loudness  mode  speechiness  acousticness  \\\n",
       "828113          0.516   0.778    -5.998     1       0.0370        0.7090   \n",
       "1045913         0.657   0.879    -2.733     1       0.0513        0.2840   \n",
       "367206          0.250   0.124   -18.660     0       0.0526        0.8120   \n",
       "21199           0.805   0.436   -10.191     1       0.0300        0.0418   \n",
       "780599          0.303   0.468    -9.727     1       0.0329        0.8480   \n",
       "\n",
       "         instrumentalness  liveness  valence    tempo  \n",
       "828113            0.00000    0.1750   0.5060   95.940  \n",
       "1045913           0.00000    0.2800   0.4720   99.973  \n",
       "367206            0.95900    0.1050   0.0342  123.479  \n",
       "21199             0.00001    0.0742   0.7030  113.025  \n",
       "780599            0.03440    0.1710   0.1930  118.059  "
      ]
     },
     "execution_count": 23,
     "metadata": {},
     "output_type": "execute_result"
    }
   ],
   "source": [
    "Xs.head()"
   ]
  },
  {
   "cell_type": "code",
   "execution_count": 63,
   "metadata": {},
   "outputs": [],
   "source": [
    "tfr = pd.DataFrame(data={'danceability':[3]})"
   ]
  },
  {
   "cell_type": "code",
   "execution_count": 37,
   "metadata": {},
   "outputs": [
    {
     "data": {
      "text/plain": [
       "danceability    3\n",
       "Name: 0, dtype: int64"
      ]
     },
     "execution_count": 37,
     "metadata": {},
     "output_type": "execute_result"
    }
   ],
   "source": [
    "tfr.iloc[0]"
   ]
  },
  {
   "cell_type": "code",
   "execution_count": 64,
   "metadata": {},
   "outputs": [],
   "source": [
    "Xtst = pd.DataFrame(data={'danceability':[.07], 'valence':[.5]})"
   ]
  },
  {
   "cell_type": "code",
   "execution_count": 49,
   "metadata": {},
   "outputs": [
    {
     "data": {
      "text/html": [
       "<div>\n",
       "<style scoped>\n",
       "    .dataframe tbody tr th:only-of-type {\n",
       "        vertical-align: middle;\n",
       "    }\n",
       "\n",
       "    .dataframe tbody tr th {\n",
       "        vertical-align: top;\n",
       "    }\n",
       "\n",
       "    .dataframe thead th {\n",
       "        text-align: right;\n",
       "    }\n",
       "</style>\n",
       "<table border=\"1\" class=\"dataframe\">\n",
       "  <thead>\n",
       "    <tr style=\"text-align: right;\">\n",
       "      <th></th>\n",
       "      <th>danceability</th>\n",
       "      <th>valence</th>\n",
       "    </tr>\n",
       "  </thead>\n",
       "  <tbody>\n",
       "    <tr>\n",
       "      <th>0</th>\n",
       "      <td>0.07</td>\n",
       "      <td>0.5</td>\n",
       "    </tr>\n",
       "  </tbody>\n",
       "</table>\n",
       "</div>"
      ],
      "text/plain": [
       "   danceability  valence\n",
       "0          0.07      0.5"
      ]
     },
     "execution_count": 49,
     "metadata": {},
     "output_type": "execute_result"
    }
   ],
   "source": [
    "Xtst.head()"
   ]
  },
  {
   "cell_type": "code",
   "execution_count": 42,
   "metadata": {},
   "outputs": [
    {
     "data": {
      "text/html": [
       "<div>\n",
       "<style scoped>\n",
       "    .dataframe tbody tr th:only-of-type {\n",
       "        vertical-align: middle;\n",
       "    }\n",
       "\n",
       "    .dataframe tbody tr th {\n",
       "        vertical-align: top;\n",
       "    }\n",
       "\n",
       "    .dataframe thead th {\n",
       "        text-align: right;\n",
       "    }\n",
       "</style>\n",
       "<table border=\"1\" class=\"dataframe\">\n",
       "  <thead>\n",
       "    <tr style=\"text-align: right;\">\n",
       "      <th></th>\n",
       "      <th>danceability</th>\n",
       "    </tr>\n",
       "  </thead>\n",
       "  <tbody>\n",
       "    <tr>\n",
       "      <th>0</th>\n",
       "      <td>3</td>\n",
       "    </tr>\n",
       "    <tr>\n",
       "      <th>1</th>\n",
       "      <td>3</td>\n",
       "    </tr>\n",
       "  </tbody>\n",
       "</table>\n",
       "</div>"
      ],
      "text/plain": [
       "   danceability\n",
       "0             3\n",
       "1             3"
      ]
     },
     "execution_count": 42,
     "metadata": {},
     "output_type": "execute_result"
    }
   ],
   "source": [
    "tfr"
   ]
  },
  {
   "cell_type": "code",
   "execution_count": 65,
   "metadata": {},
   "outputs": [
    {
     "name": "stdout",
     "output_type": "stream",
     "text": [
      "            Error finding song\n",
      "0  Please use a different song\n"
     ]
    }
   ],
   "source": [
    "pd.set_option('display.width', 5000)\n",
    "if tfr.iloc[0][0]>1:\n",
    "    dft = pd.DataFrame(data={'Error finding song':['Please use a different song']}) \n",
    "    print(dft.head())\n",
    "else:\n",
    "    print('Second pass')"
   ]
  },
  {
   "cell_type": "code",
   "execution_count": 56,
   "metadata": {},
   "outputs": [
    {
     "data": {
      "text/html": [
       "<div>\n",
       "<style scoped>\n",
       "    .dataframe tbody tr th:only-of-type {\n",
       "        vertical-align: middle;\n",
       "    }\n",
       "\n",
       "    .dataframe tbody tr th {\n",
       "        vertical-align: top;\n",
       "    }\n",
       "\n",
       "    .dataframe thead th {\n",
       "        text-align: right;\n",
       "    }\n",
       "</style>\n",
       "<table border=\"1\" class=\"dataframe\">\n",
       "  <thead>\n",
       "    <tr style=\"text-align: right;\">\n",
       "      <th></th>\n",
       "      <th>Error</th>\n",
       "    </tr>\n",
       "  </thead>\n",
       "  <tbody>\n",
       "    <tr>\n",
       "      <th>0</th>\n",
       "      <td>The api could not find your song.  Please use ...</td>\n",
       "    </tr>\n",
       "  </tbody>\n",
       "</table>\n",
       "</div>"
      ],
      "text/plain": [
       "                                               Error\n",
       "0  The api could not find your song.  Please use ..."
      ]
     },
     "execution_count": 56,
     "metadata": {},
     "output_type": "execute_result"
    }
   ],
   "source": [
    "dft.head()"
   ]
  },
  {
   "cell_type": "code",
   "execution_count": 66,
   "metadata": {},
   "outputs": [
    {
     "name": "stdout",
     "output_type": "stream",
     "text": [
      "Full completion\n"
     ]
    }
   ],
   "source": [
    "if Xtst.iloc[0][0]>1:\n",
    "    print('Success') \n",
    "else:\n",
    "    print('Full completion')"
   ]
  },
  {
   "cell_type": "code",
   "execution_count": 68,
   "metadata": {},
   "outputs": [],
   "source": [
    "df2.to_csv('Full_data.csv')"
   ]
  },
  {
   "cell_type": "code",
   "execution_count": 70,
   "metadata": {},
   "outputs": [
    {
     "data": {
      "text/html": [
       "<div>\n",
       "<style scoped>\n",
       "    .dataframe tbody tr th:only-of-type {\n",
       "        vertical-align: middle;\n",
       "    }\n",
       "\n",
       "    .dataframe tbody tr th {\n",
       "        vertical-align: top;\n",
       "    }\n",
       "\n",
       "    .dataframe thead th {\n",
       "        text-align: right;\n",
       "    }\n",
       "</style>\n",
       "<table border=\"1\" class=\"dataframe\">\n",
       "  <thead>\n",
       "    <tr style=\"text-align: right;\">\n",
       "      <th></th>\n",
       "      <th>name</th>\n",
       "      <th>album</th>\n",
       "      <th>artists</th>\n",
       "      <th>danceability</th>\n",
       "      <th>energy</th>\n",
       "      <th>loudness</th>\n",
       "      <th>mode</th>\n",
       "      <th>speechiness</th>\n",
       "      <th>acousticness</th>\n",
       "      <th>instrumentalness</th>\n",
       "      <th>liveness</th>\n",
       "      <th>valence</th>\n",
       "      <th>tempo</th>\n",
       "      <th>time_signature</th>\n",
       "      <th>year</th>\n",
       "    </tr>\n",
       "  </thead>\n",
       "  <tbody>\n",
       "    <tr>\n",
       "      <th>828113</th>\n",
       "      <td>Christmas Lights</td>\n",
       "      <td>Christmas Lights</td>\n",
       "      <td>Blush</td>\n",
       "      <td>0.516</td>\n",
       "      <td>0.778</td>\n",
       "      <td>-5.998</td>\n",
       "      <td>1</td>\n",
       "      <td>0.0370</td>\n",
       "      <td>0.7090</td>\n",
       "      <td>0.00000</td>\n",
       "      <td>0.1750</td>\n",
       "      <td>0.5060</td>\n",
       "      <td>95.940</td>\n",
       "      <td>4.0</td>\n",
       "      <td>2012</td>\n",
       "    </tr>\n",
       "    <tr>\n",
       "      <th>1045913</th>\n",
       "      <td>Chronosaurus</td>\n",
       "      <td>SKZ2020</td>\n",
       "      <td>Stray Kids</td>\n",
       "      <td>0.657</td>\n",
       "      <td>0.879</td>\n",
       "      <td>-2.733</td>\n",
       "      <td>1</td>\n",
       "      <td>0.0513</td>\n",
       "      <td>0.2840</td>\n",
       "      <td>0.00000</td>\n",
       "      <td>0.2800</td>\n",
       "      <td>0.4720</td>\n",
       "      <td>99.973</td>\n",
       "      <td>4.0</td>\n",
       "      <td>2020</td>\n",
       "    </tr>\n",
       "    <tr>\n",
       "      <th>367206</th>\n",
       "      <td>Squid Ink Part 2</td>\n",
       "      <td>A Real Diamond in the Rough</td>\n",
       "      <td>Buckethead</td>\n",
       "      <td>0.250</td>\n",
       "      <td>0.124</td>\n",
       "      <td>-18.660</td>\n",
       "      <td>0</td>\n",
       "      <td>0.0526</td>\n",
       "      <td>0.8120</td>\n",
       "      <td>0.95900</td>\n",
       "      <td>0.1050</td>\n",
       "      <td>0.0342</td>\n",
       "      <td>123.479</td>\n",
       "      <td>4.0</td>\n",
       "      <td>2009</td>\n",
       "    </tr>\n",
       "    <tr>\n",
       "      <th>21199</th>\n",
       "      <td>States Away</td>\n",
       "      <td>Lemonade</td>\n",
       "      <td>Breaking Laces</td>\n",
       "      <td>0.805</td>\n",
       "      <td>0.436</td>\n",
       "      <td>-10.191</td>\n",
       "      <td>1</td>\n",
       "      <td>0.0300</td>\n",
       "      <td>0.0418</td>\n",
       "      <td>0.00001</td>\n",
       "      <td>0.0742</td>\n",
       "      <td>0.7030</td>\n",
       "      <td>113.025</td>\n",
       "      <td>4.0</td>\n",
       "      <td>2005</td>\n",
       "    </tr>\n",
       "    <tr>\n",
       "      <th>780599</th>\n",
       "      <td>Keep a Light</td>\n",
       "      <td>The Troubadour</td>\n",
       "      <td>Drew De Four</td>\n",
       "      <td>0.303</td>\n",
       "      <td>0.468</td>\n",
       "      <td>-9.727</td>\n",
       "      <td>1</td>\n",
       "      <td>0.0329</td>\n",
       "      <td>0.8480</td>\n",
       "      <td>0.03440</td>\n",
       "      <td>0.1710</td>\n",
       "      <td>0.1930</td>\n",
       "      <td>118.059</td>\n",
       "      <td>4.0</td>\n",
       "      <td>2009</td>\n",
       "    </tr>\n",
       "  </tbody>\n",
       "</table>\n",
       "</div>"
      ],
      "text/plain": [
       "                     name                        album         artists  danceability  energy  loudness  mode  speechiness  acousticness  instrumentalness  liveness  valence    tempo  time_signature  year\n",
       "828113   Christmas Lights             Christmas Lights           Blush         0.516   0.778    -5.998     1       0.0370        0.7090           0.00000    0.1750   0.5060   95.940             4.0  2012\n",
       "1045913      Chronosaurus                      SKZ2020      Stray Kids         0.657   0.879    -2.733     1       0.0513        0.2840           0.00000    0.2800   0.4720   99.973             4.0  2020\n",
       "367206   Squid Ink Part 2  A Real Diamond in the Rough      Buckethead         0.250   0.124   -18.660     0       0.0526        0.8120           0.95900    0.1050   0.0342  123.479             4.0  2009\n",
       "21199         States Away                     Lemonade  Breaking Laces         0.805   0.436   -10.191     1       0.0300        0.0418           0.00001    0.0742   0.7030  113.025             4.0  2005\n",
       "780599       Keep a Light               The Troubadour    Drew De Four         0.303   0.468    -9.727     1       0.0329        0.8480           0.03440    0.1710   0.1930  118.059             4.0  2009"
      ]
     },
     "execution_count": 70,
     "metadata": {},
     "output_type": "execute_result"
    }
   ],
   "source": [
    "df2.head()"
   ]
  }
 ],
 "metadata": {
  "interpreter": {
   "hash": "ed225720166559e7176d3793db16a2fd8d295f725007103b21ac3099d2a89ee8"
  },
  "kernelspec": {
   "display_name": "Python 3.8.12 64-bit ('base': conda)",
   "name": "python3"
  },
  "language_info": {
   "codemirror_mode": {
    "name": "ipython",
    "version": 3
   },
   "file_extension": ".py",
   "mimetype": "text/x-python",
   "name": "python",
   "nbconvert_exporter": "python",
   "pygments_lexer": "ipython3",
   "version": "3.8.12"
  },
  "orig_nbformat": 4
 },
 "nbformat": 4,
 "nbformat_minor": 2
}
